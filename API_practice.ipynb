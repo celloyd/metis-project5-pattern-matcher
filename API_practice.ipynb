{
 "cells": [
  {
   "cell_type": "code",
   "execution_count": 1,
   "metadata": {},
   "outputs": [],
   "source": [
    "import requests"
   ]
  },
  {
   "cell_type": "code",
   "execution_count": 2,
   "metadata": {},
   "outputs": [
    {
     "data": {
      "text/plain": [
       "200"
      ]
     },
     "execution_count": 2,
     "metadata": {},
     "output_type": "execute_result"
    }
   ],
   "source": [
    "response = requests.get('http://api.open-notify.org/astros.json')\n",
    "response.status_code"
   ]
  },
  {
   "cell_type": "code",
   "execution_count": 10,
   "metadata": {},
   "outputs": [],
   "source": [
    "import json\n",
    "\n",
    "text = json.dumps(response.json(), sort_keys = True, indent = 4)"
   ]
  },
  {
   "cell_type": "code",
   "execution_count": 12,
   "metadata": {},
   "outputs": [
    {
     "name": "stdout",
     "output_type": "stream",
     "text": [
      "{\n",
      "    \"message\": \"success\",\n",
      "    \"number\": 7,\n",
      "    \"people\": [\n",
      "        {\n",
      "            \"craft\": \"ISS\",\n",
      "            \"name\": \"Sergey Ryzhikov\"\n",
      "        },\n",
      "        {\n",
      "            \"craft\": \"ISS\",\n",
      "            \"name\": \"Kate Rubins\"\n",
      "        },\n",
      "        {\n",
      "            \"craft\": \"ISS\",\n",
      "            \"name\": \"Sergey Kud-Sverchkov\"\n",
      "        },\n",
      "        {\n",
      "            \"craft\": \"ISS\",\n",
      "            \"name\": \"Mike Hopkins\"\n",
      "        },\n",
      "        {\n",
      "            \"craft\": \"ISS\",\n",
      "            \"name\": \"Victor Glover\"\n",
      "        },\n",
      "        {\n",
      "            \"craft\": \"ISS\",\n",
      "            \"name\": \"Shannon Walker\"\n",
      "        },\n",
      "        {\n",
      "            \"craft\": \"ISS\",\n",
      "            \"name\": \"Soichi Noguchi\"\n",
      "        }\n",
      "    ]\n",
      "}\n"
     ]
    }
   ],
   "source": [
    "print(text)"
   ]
  },
  {
   "cell_type": "code",
   "execution_count": null,
   "metadata": {},
   "outputs": [],
   "source": []
  }
 ],
 "metadata": {
  "kernelspec": {
   "display_name": "Python 3",
   "language": "python",
   "name": "python3"
  },
  "language_info": {
   "codemirror_mode": {
    "name": "ipython",
    "version": 3
   },
   "file_extension": ".py",
   "mimetype": "text/x-python",
   "name": "python",
   "nbconvert_exporter": "python",
   "pygments_lexer": "ipython3",
   "version": "3.7.8"
  }
 },
 "nbformat": 4,
 "nbformat_minor": 4
}
