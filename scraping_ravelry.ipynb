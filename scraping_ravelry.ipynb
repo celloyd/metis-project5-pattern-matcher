{
 "cells": [
  {
   "cell_type": "code",
   "execution_count": 1,
   "metadata": {},
   "outputs": [],
   "source": [
    "import requests\n",
    "import regex as re\n",
    "import time\n",
    "import os.path\n",
    "\n",
    "from bs4 import BeautifulSoup\n",
    "import pandas as pd\n",
    "from fake_useragent import UserAgent\n",
    "import urllib.request \n",
    "import json\n",
    "\n",
    "# I believe this is no longer needed - was used for authentication a different way\n",
    "#from lxml import html\n"
   ]
  },
  {
   "cell_type": "code",
   "execution_count": null,
   "metadata": {},
   "outputs": [],
   "source": [
    "test_url = 'https://www.ravelry.com/patterns/library/love-note'\n",
    "result = requests.get(test_url)\n",
    "#if result.status_code == 200:\n",
    "soup = BeautifulSoup(result.content, 'html.parser')"
   ]
  },
  {
   "cell_type": "code",
   "execution_count": null,
   "metadata": {},
   "outputs": [],
   "source": [
    "photo_gallery = soup.find('div', class_ = 'photo_gallery_container').find_all('img')"
   ]
  },
  {
   "cell_type": "code",
   "execution_count": null,
   "metadata": {},
   "outputs": [],
   "source": [
    "photo_gallery[0]"
   ]
  },
  {
   "cell_type": "code",
   "execution_count": null,
   "metadata": {},
   "outputs": [],
   "source": [
    "photo_gallery[0]['src']"
   ]
  },
  {
   "cell_type": "markdown",
   "metadata": {},
   "source": [
    "OK, code to get lists of photo gallery links for a given page is"
   ]
  },
  {
   "cell_type": "code",
   "execution_count": null,
   "metadata": {},
   "outputs": [],
   "source": [
    "[image['src'] for image in soup.find('div', class_ = 'photo_gallery_container').find_all('img')]"
   ]
  },
  {
   "cell_type": "markdown",
   "metadata": {},
   "source": [
    "\"Projects\" page for a given pattern is same as pattern link but with ```/people``` appended to it.\n",
    "\n",
    "Now want to get several photos from the projects page. Since there are also in progress photos, let's look at the finished projects page. ```/people?view=cards&search=&view=cards&statuses%5B%5D=finished```\n",
    "\n",
    "Unexpected problem here: some people only have photos of the balls/skeins of yarn they plan on using to make the sweater, not the finished item. Possible solution: get the photo neural net to identify balls of yarn and drop those photos?\n",
    "\n",
    "Getting thumbnails for first projects page:"
   ]
  },
  {
   "cell_type": "code",
   "execution_count": null,
   "metadata": {},
   "outputs": [],
   "source": [
    "people_url = 'https://www.ravelry.com/patterns/library/love-note/people?view=cards&search=&view=cards&statuses%5B%5D=finished'\n",
    "result = requests.get(people_url)\n",
    "people_soup = BeautifulSoup(result.content, 'html.parser')"
   ]
  },
  {
   "cell_type": "code",
   "execution_count": null,
   "metadata": {},
   "outputs": [],
   "source": [
    "soup.find('div', class_ = 'photo_frame photo_gallery__frame real_photo').find('img')"
   ]
  },
  {
   "cell_type": "code",
   "execution_count": null,
   "metadata": {},
   "outputs": [],
   "source": [
    "soup.find_all('div', class_ = 'photo_frame photo_gallery__frame real_photo')"
   ]
  },
  {
   "cell_type": "code",
   "execution_count": null,
   "metadata": {},
   "outputs": [],
   "source": [
    "# Community image thumbnails\n",
    "[card.find('img')['src'] for card in soup.find_all('div', class_ = 'photo_frame photo_gallery__frame real_photo')]"
   ]
  },
  {
   "cell_type": "markdown",
   "metadata": {},
   "source": [
    "8 user-submitted pictures (probably at least 4 of them the actual garment) will be enough for the test run.\n",
    "\n",
    "Now to take a step back and scrape pattern links from the search page."
   ]
  },
  {
   "cell_type": "code",
   "execution_count": null,
   "metadata": {},
   "outputs": [],
   "source": [
    "search_url = 'https://www.ravelry.com/patterns/search#craft=crochet%7Cknitting&pc=sweater&sort=best&view=captioned_thumbs'\n",
    "result = requests.get(search_url)\n",
    "search_soup = BeautifulSoup(result.content, 'html.parser')\n",
    "\n",
    "search_soup.find('div')"
   ]
  },
  {
   "cell_type": "markdown",
   "metadata": {},
   "source": [
    "Search page requires login. Hmm. They have an API, which I'm going to request access to. In the meantime, fun with logins!\n",
    "\n",
    "```<label for=\"user_login\">Username</label>\n",
    "<input autofocus=\"autofocus\" id=\"user_login\" name=\"user[login]\" size=\"30\" type=\"text\" value=\"\" style=\"background-image: url(&quot;data:image/png;base64,iVBORw0KGgoAAAANSUhEUgAAAAEAAAABCAQAAAC1HAwCAAAAC0lEQVR4nGP6zwAAAgcBApocMXEAAAAASUVORK5CYII=&quot;); cursor: auto;\">```\n",
    "\n",
    "```<label for=\"user_password\">Password</label>\n",
    "<input id=\"user_password\" name=\"user[password]\" size=\"30\" type=\"password\" style=\"background-image: url(&quot;data:image/png;base64,iVBORw0KGgoAAAANSUhEUgAAAAEAAAABCAQAAAC1HAwCAAAAC0lEQVR4nGP6zwAAAgcBApocMXEAAAAASUVORK5CYII=&quot;); cursor: auto;\">```\n",
    "\n",
    "```<meta content=\"BrjS4V87lBeD/pLeSy3xGn3mtGSMIQx2UKxE7bBeAV0=\" id=\"authenticity-token\" name=\"authenticity-token\">```\n"
   ]
  },
  {
   "cell_type": "code",
   "execution_count": null,
   "metadata": {},
   "outputs": [],
   "source": [
    "\n",
    "login = {'user_login': 'cheshious@gmail.com', \n",
    "        'user_password': 'angel1ne', \n",
    "        'authenticity_token': 'BrjS4V87lBeD/pLeSy3xGn3mtGSMIQx2UKxE7bBeAV0='}\n",
    "session_requests = requests.session()\n",
    "login_url = 'https://www.ravelry.com/account/login'\n",
    "result = session_requests.get(login_url)\n",
    "\n",
    "soup = BeautifulSoup(result.content, 'html.parser')\n",
    "authenticity_token = soup.find('input')['value']\n",
    "login['authenticity-token'] = authenticity_token\n",
    "\n",
    "result = session_requests.post(login_url, \n",
    "                               data = login, \n",
    "                               headers = dict(referer=login_url))"
   ]
  },
  {
   "cell_type": "code",
   "execution_count": null,
   "metadata": {},
   "outputs": [],
   "source": [
    "login['user[login]'] = 'cheshious@gmail.com'\n",
    "login['user[password]'] = 'angel1ne'"
   ]
  },
  {
   "cell_type": "code",
   "execution_count": null,
   "metadata": {},
   "outputs": [],
   "source": [
    "with session_requests as session:\n",
    "    result = session.get(login_url)\n",
    "    soup = BeautifulSoup(result.content, 'html.parser')\n",
    "    authenticity_token = soup.find('input')['value']\n",
    "    login['authenticity-token'] = authenticity_token\n",
    "    result = session_requests.post(login_url, data = login)"
   ]
  },
  {
   "cell_type": "code",
   "execution_count": null,
   "metadata": {},
   "outputs": [],
   "source": [
    "result.status_code"
   ]
  },
  {
   "cell_type": "code",
   "execution_count": null,
   "metadata": {},
   "outputs": [],
   "source": [
    "soup = BeautifulSoup(result.content, 'html.parser')\n",
    "soup"
   ]
  },
  {
   "cell_type": "markdown",
   "metadata": {},
   "source": [
    "And they've got some anti-bot measures as well! Dang!\n",
    "\n",
    "I'm going to cheat and right-click on some image links to get pattern pages I can scrape and play around with while I try to figure out their API."
   ]
  },
  {
   "cell_type": "code",
   "execution_count": null,
   "metadata": {},
   "outputs": [],
   "source": [
    "pattern_links = ['https://www.ravelry.com/patterns/library/stripes-32', \n",
    "                'https://www.ravelry.com/patterns/library/love-note', \n",
    "                'https://www.ravelry.com/patterns/library/soldotna-crop', \n",
    "                'https://www.ravelry.com/patterns/library/the-weekender-5', \n",
    "                'https://www.ravelry.com/patterns/library/ranunculus-3', \n",
    "                'https://www.ravelry.com/patterns/library/flax', \n",
    "                'https://www.ravelry.com/patterns/library/zweig', \n",
    "                'https://www.ravelry.com/patterns/library/pull-camille', \n",
    "                'https://www.ravelry.com/patterns/library/navelli', \n",
    "                'https://www.ravelry.com/patterns/library/soundtrack-2', \n",
    "                'https://www.ravelry.com/patterns/library/felix-pullover', \n",
    "                'https://www.ravelry.com/patterns/library/forestland', \n",
    "                'https://www.ravelry.com/patterns/library/super-simple-summer-sweater', \n",
    "                'https://www.ravelry.com/patterns/library/no-frills-sweater', \n",
    "                'https://www.ravelry.com/patterns/library/cumulus-blouse', \n",
    "                'https://www.ravelry.com/patterns/library/ursa-3', \n",
    "                'https://www.ravelry.com/patterns/library/fonda', \n",
    "                'https://www.ravelry.com/patterns/library/humulus-2', \n",
    "                'https://www.ravelry.com/patterns/library/mjuk-hettegenser-herre', \n",
    "                'https://www.ravelry.com/patterns/library/misurina', \n",
    "                'https://www.ravelry.com/patterns/library/city-limits-2', \n",
    "                'https://www.ravelry.com/patterns/library/yume', \n",
    "                'https://www.ravelry.com/patterns/library/so-faded', \n",
    "                'https://www.ravelry.com/patterns/library/the-throwover', \n",
    "                'https://www.ravelry.com/patterns/library/rift-7', \n",
    "                'https://www.ravelry.com/patterns/library/felix-cardigan', \n",
    "                'https://www.ravelry.com/patterns/library/shifty-2', \n",
    "                'https://www.ravelry.com/patterns/library/forager-4', \n",
    "                'https://www.ravelry.com/patterns/library/elton-3', \n",
    "                'https://www.ravelry.com/patterns/library/sunday-sweater-7', \n",
    "                'https://www.ravelry.com/patterns/library/the-throwback', \n",
    "                'https://www.ravelry.com/patterns/library/wool--honey', \n",
    "                'https://www.ravelry.com/patterns/library/comfort-fade-cardi', \n",
    "                'https://www.ravelry.com/patterns/library/magnolia-chunky-cardigan', \n",
    "                'https://www.ravelry.com/patterns/library/nurtured', \n",
    "                'https://www.ravelry.com/patterns/library/sipila', \n",
    "                'https://www.ravelry.com/patterns/library/sorrel-15', \n",
    "                'https://www.ravelry.com/patterns/library/trescao-jumper', \n",
    "                'https://www.ravelry.com/patterns/library/gardengate', \n",
    "                'https://www.ravelry.com/patterns/library/spark-5', \n",
    "                'https://www.ravelry.com/patterns/library/cozy-classic-raglan', \n",
    "                'https://www.ravelry.com/patterns/library/tecumseh-2', \n",
    "                'https://www.ravelry.com/patterns/library/the-weekender-light', \n",
    "                'https://www.ravelry.com/patterns/library/turtle-dove-3', \n",
    "                'https://www.ravelry.com/patterns/library/fog-whisperer-cardigan', \n",
    "                'https://www.ravelry.com/patterns/library/pink-velvet']\n",
    "\n",
    "# First page of results at https://www.ravelry.com/patterns/search#craft=crochet%7Cknitting&availability=free%7Conline%7Cravelry&pc=sweater&photo=yes&sort=best&view=captioned_thumbs\n",
    "# Knit or crochet, available online, sweater, has photos"
   ]
  },
  {
   "cell_type": "code",
   "execution_count": null,
   "metadata": {},
   "outputs": [],
   "source": [
    "ua = UserAgent()\n",
    "user_agent = {'User-agent': ua.random}\n",
    "search_stem = 'https://www.ravelry.com/patterns/search#craft=crochet%7Cknitting&availability=free%7Conline%7Cravelry&photo=yes&pc=sweater&sort=best&view=captioned_thumbs&page='\n",
    "session_requests = requests.Session()\n",
    "with session_requests as session:\n",
    "    result = session.get(login_url, headers = user_agent)\n",
    "    soup = BeautifulSoup(result.content, 'html.parser')\n",
    "    authenticity_token = soup.find('input')['value']\n",
    "    login['authenticity-token'] = authenticity_token\n",
    "    session_requests.post(login_url, data = login)\n",
    "    result = session.get(search_stem + '2', headers = user_agent)"
   ]
  },
  {
   "cell_type": "code",
   "execution_count": null,
   "metadata": {},
   "outputs": [],
   "source": [
    "soup = BeautifulSoup(result.content, 'html.parser')"
   ]
  },
  {
   "cell_type": "code",
   "execution_count": null,
   "metadata": {},
   "outputs": [],
   "source": [
    "soup"
   ]
  },
  {
   "cell_type": "code",
   "execution_count": null,
   "metadata": {},
   "outputs": [],
   "source": [
    "# Getting pattern name from url:\n",
    "pattern_scrapes = {}\n",
    "for link in pattern_links:\n",
    "    user_agent = {'User-agent': ua.random}\n",
    "    name = re.search('(?<=library/)[-A-z0-9]+', link)\n",
    "    result = requests.get(link, headers = user_agent)\n",
    "    pattern_scrapes[name] = result\n",
    "    time.sleep(30)"
   ]
  },
  {
   "cell_type": "code",
   "execution_count": null,
   "metadata": {},
   "outputs": [],
   "source": [
    "print(len(pattern_scrapes), len(pattern_links))"
   ]
  },
  {
   "cell_type": "code",
   "execution_count": null,
   "metadata": {},
   "outputs": [],
   "source": [
    "soup_dict = {}\n",
    "for key in pattern_scrapes.keys():\n",
    "    # key is currently a regex.Match object; getting string of what matched\n",
    "    soup_dict[key.group()] = BeautifulSoup(pattern_scrapes[key].content, 'html.parser')"
   ]
  },
  {
   "cell_type": "code",
   "execution_count": null,
   "metadata": {},
   "outputs": [],
   "source": [
    "pattern_dict = {}\n",
    "for key in soup_dict.keys():\n",
    "    pattern_dict[key] = {}\n",
    "    pattern_dict[key]['gallery'] = [image['src'] for image in soup_dict[key].find('div', class_ = 'photo_gallery_container').find_all('img')]"
   ]
  },
  {
   "cell_type": "code",
   "execution_count": null,
   "metadata": {},
   "outputs": [],
   "source": [
    "people_scrapes = {}\n",
    "# Getting community photos of same project; first page only\n",
    "for link in pattern_links:\n",
    "    people_link = link + '/people?view=cards&search=&view=cards&statuses%5B%5D=finished'\n",
    "    user_agent = {'User-agent': ua.random}\n",
    "    name = re.search('(?<=library/)[-A-z0-9]+', link).group()\n",
    "    result = requests.get(people_link, headers = user_agent)\n",
    "    people_scrapes[name] = result\n",
    "    time.sleep(30)"
   ]
  },
  {
   "cell_type": "code",
   "execution_count": null,
   "metadata": {},
   "outputs": [],
   "source": [
    "\n",
    "# Getting second page of projects to test neural net\n",
    "people_scrapes2 = {}\n",
    "# Getting community photos of same project; first page only\n",
    "for link in pattern_links:\n",
    "    people_link = link + '/people?page=2&search=&statuses%5B%5D=finished&view=cards'\n",
    "    user_agent = {'User-agent': ua.random}\n",
    "    name = re.search('(?<=library/)[-A-z0-9]+', link).group()\n",
    "    result = requests.get(people_link, headers = user_agent)\n",
    "    people_scrapes2[name] = result\n",
    "    time.sleep(30)"
   ]
  },
  {
   "cell_type": "code",
   "execution_count": null,
   "metadata": {},
   "outputs": [],
   "source": [
    "# Turning raw results of community pages to BeautifulSoup objects\n",
    "people_soup = {}\n",
    "for key in people_scrapes.keys():\n",
    "    people_soup[key] = BeautifulSoup(people_scrapes[key].content, 'html.parser')\n",
    "people_soup2 = {}\n",
    "for key in people_scrapes2.keys():\n",
    "    people_soup2[key] = BeautifulSoup(people_scrapes2[key].content, 'html.parser')"
   ]
  },
  {
   "cell_type": "code",
   "execution_count": null,
   "metadata": {},
   "outputs": [],
   "source": [
    "# Getting links from community pages; appending first to links list in dict and putting second in its own list\n",
    "for key in pattern_dict.keys():\n",
    "    pattern_dict[key]['gallery'] += [card.find('img')['src'] for card in people_soup[key].find_all('div', class_ = 'photo_frame photo_gallery__frame real_photo')]\n",
    "    pattern_dict[key]['test links'] = [card.find('img')['src'] for card in people_soup2[key].find_all('div', class_ = 'photo_frame photo_gallery__frame real_photo')]\n",
    "    "
   ]
  },
  {
   "cell_type": "code",
   "execution_count": null,
   "metadata": {},
   "outputs": [],
   "source": [
    "test_pic = urllib.request.urlretrieve('https://images4-f.ravelrycache.com/uploads/dreareneeknits/743362891/Custom-8_thumbnail.jpg', 'test.jpg')\n"
   ]
  },
  {
   "cell_type": "code",
   "execution_count": null,
   "metadata": {},
   "outputs": [],
   "source": [
    "with open('text.txt', 'w') as fp:\n",
    "    fp.write('I am a test')"
   ]
  },
  {
   "cell_type": "code",
   "execution_count": null,
   "metadata": {},
   "outputs": [],
   "source": [
    "os.chdir('proj05')"
   ]
  },
  {
   "cell_type": "code",
   "execution_count": null,
   "metadata": {},
   "outputs": [],
   "source": [
    "os.getcwd()"
   ]
  },
  {
   "cell_type": "code",
   "execution_count": null,
   "metadata": {},
   "outputs": [],
   "source": [
    "for pattern in pattern_dict.keys():\n",
    "    train_count = 1\n",
    "    test_count = 100\n",
    "    for link in pattern_dict[pattern]['gallery']:\n",
    "        file_name = pattern + '_' + str(train_count).zfill(3) + '.jpg'\n",
    "        file_path = os.path.join('img/', file_name)\n",
    "        try:\n",
    "            pic = urllib.request.urlretrieve(link, file_path)\n",
    "        except:\n",
    "            pass\n",
    "        train_count += 1\n",
    "        time.sleep(15)\n",
    "    for link in pattern_dict[pattern]['test links']:\n",
    "        file_name = pattern + '_' + str(test_count).zfill(3) + '.jpg'\n",
    "        file_path = os.path.join('img/test/', file_name)\n",
    "        try:\n",
    "            pic = urllib.request.urlretrieve(link, file_name)\n",
    "        except:\n",
    "            pass\n",
    "        test_count += 1\n",
    "        time.sleep(15)"
   ]
  },
  {
   "cell_type": "markdown",
   "metadata": {
    "jupyter": {
     "outputs_hidden": true
    }
   },
   "source": [
    "Something is up; images are duplicated in folder AND are in '/test/'."
   ]
  },
  {
   "cell_type": "code",
   "execution_count": null,
   "metadata": {},
   "outputs": [],
   "source": [
    "# Comparing links:\n",
    "gallery = [image['src'] for image in soup_dict['stripes-32'].find('div', class_ = 'photo_gallery_container').find_all('img')]\n",
    "projects1 = [card.find('img')['src'] for card in people_soup['stripes-32'].find_all('div', class_ = 'photo_frame photo_gallery__frame real_photo')]\n",
    "projects2 = [card.find('img')['src'] for card in people_soup2['stripes-32'].find_all('div', class_ = 'photo_frame photo_gallery__frame real_photo')]\n",
    "gallery"
   ]
  },
  {
   "cell_type": "markdown",
   "metadata": {},
   "source": [
    "Really not clear why results are identical but reordered in various sets/various pages. Going to work on retrieving things from API and then return to this if/when I need to scrape directly.\n",
    "\n",
    "## Hybrid method\n",
    "API is great for getting patterns including permalink and link to first image as small2. (Requires OAuth to get projects by pattern, which is a major pain.) "
   ]
  },
  {
   "cell_type": "code",
   "execution_count": 2,
   "metadata": {
    "jupyter": {
     "source_hidden": true
    }
   },
   "outputs": [],
   "source": [
    "pattern_dict = {'womens-knitted-sweater-2': {'id': 1088978,\n",
    "  'url': 'https://www.novitaknits.com/fi',\n",
    "  'photo urls': ['https://images4-g.ravelrycache.com/uploads/knitabitknitwit/744566300/upload_small2']},\n",
    " 'hooded-baby-cardigan-5': {'id': 1089008,\n",
    "  'url': 'https://www.novitaknits.com/fi',\n",
    "  'photo urls': ['https://images4-g.ravelrycache.com/uploads/knitabitknitwit/744588460/upload_small2']},\n",
    " 'love-note': {'id': 927223,\n",
    "  'url': 'http://www.ravelry.com/stores/tin-can-knits-designs',\n",
    "  'photo urls': ['https://images4-g.ravelrycache.com/uploads/tincanknits/624440924/TCK-lovenote-01a_small2.jpg']},\n",
    " 'womens-cabled-cardigan': {'id': 1088911,\n",
    "  'url': 'https://www.novitaknits.com/fi',\n",
    "  'photo urls': ['https://images4-g.ravelrycache.com/uploads/knitabitknitwit/744521115/upload_small2']},\n",
    " 'soldotna-crop': {'id': 910492,\n",
    "  'url': 'https://www.ravelry.com/stores/boyland-knitworks',\n",
    "  'photo urls': ['https://images4-f.ravelrycache.com/uploads/boylandknitworks/612664255/Attachment-1_2_small2.jpeg']},\n",
    " 'the-weekender-5': {'id': 788421,\n",
    "  'url': 'https://www.ravelry.com/stores/dreareneeknits',\n",
    "  'photo urls': ['https://images4-f.ravelrycache.com/uploads/dreareneeknits/481027443/IMG_0617_small2.JPG']},\n",
    " 'ranunculus-3': {'id': 754478,\n",
    "  'url': 'http://www.ravelry.com/stores/midori-hirose-designs',\n",
    "  'photo urls': ['https://images4-f.ravelrycache.com/uploads/MidoriHirose/475388370/Blob_small2']},\n",
    " 'flax': {'id': 443533,\n",
    "  'url': 'http://tincanknits.com/thesimplecollection.html',\n",
    "  'photo urls': ['https://images4-f.ravelrycache.com/uploads/tincanknits/731184306/FlaxSweater-SC-TCK-3536_small2.jpg']},\n",
    " 'flax-light': {'id': 632425,\n",
    "  'url': 'http://www.tincanknits.com/',\n",
    "  'photo urls': ['https://images4-g.ravelrycache.com/uploads/tincanknits/338183095/SC-flaxlight-07a_small2.jpg']},\n",
    " 'zweig': {'id': 778932,\n",
    "  'url': 'https://www.ravelry.com/stores/boyland-knitworks',\n",
    "  'photo urls': ['https://images4-f.ravelrycache.com/uploads/Knitosophy/474367583/DSC02703_small2.JPG']},\n",
    " 'cabin-life-cardigan': {'id': 1088754,\n",
    "  'url': '',\n",
    "  'photo urls': ['https://images4-f.ravelrycache.com/uploads/jojilocat/744326942/WN7A7886_small2.jpg']},\n",
    " 'navelli': {'id': 927665,\n",
    "  'url': 'https://www.ravelry.com/stores/boyland-knitworks',\n",
    "  'photo urls': ['https://images4-f.ravelrycache.com/uploads/boylandknitworks/624513479/1B8DAB2E-4617-460F-AB59-D76E5270B818_small2.jpg']},\n",
    " 'soundtrack-2': {'id': 1037794,\n",
    "  'url': 'http://www.ravelry.com/stores/marie-greene-designs',\n",
    "  'photo urls': ['https://images4-f.ravelrycache.com/uploads/mariegreene/706765307/Soundtrack_Cover_small2.jpg']},\n",
    " 'felix-pullover': {'id': 894972,\n",
    "  'url': 'http://www.ravelry.com/stores/savory-knitting',\n",
    "  'photo urls': ['https://images4-f.ravelrycache.com/uploads/savoryknitting/599113250/IMG_8037_small2.jpg']},\n",
    " 'super-simple-summer-sweater': {'id': 944225,\n",
    "  'url': 'http://www.ravelry.com/stores/j-o-j-i',\n",
    "  'photo urls': ['https://images4-f.ravelrycache.com/uploads/jojilocat/636063575/WN7A6565_small2.jpg']},\n",
    " 'no-frills-sweater': {'id': 710742,\n",
    "  'url': 'https://www.ravelry.com/stores/petiteknit',\n",
    "  'photo urls': ['https://images4-f.ravelrycache.com/uploads/PetiteKnitDK/685972518/hvid9_small2.jpg']},\n",
    " 'cumulus-blouse': {'id': 840489,\n",
    "  'url': 'https://www.ravelry.com/stores/petiteknit',\n",
    "  'photo urls': ['https://images4-g.ravelrycache.com/uploads/PetiteKnitDK/649817159/rd3_small2.jpg']},\n",
    " 'ursa-3': {'id': 916577,\n",
    "  'url': 'http://www.ravelry.com/stores/jacqueline-cieslak-designs',\n",
    "  'photo urls': ['https://images4-f.ravelrycache.com/uploads/JacquelineCieslak/616264160/ursa-ravelry_small2.jpg']},\n",
    " 'humulus-2': {'id': 790875,\n",
    "  'url': 'http://www.ravelry.com/stores/grasflecken',\n",
    "  'photo urls': ['https://images4-g.ravelrycache.com/uploads/lilalu/476854643/22429752_1810582145900620_917657975114432512_n_small2.jpg']},\n",
    " 'aimee-cardigan': {'id': 1088763,\n",
    "  'url': '',\n",
    "  'photo urls': ['https://images4-g.ravelrycache.com/uploads/jojilocat/744357776/WN7A7156_small2.jpg']},\n",
    " 'misurina': {'id': 1056994,\n",
    "  'url': 'https://www.ravelry.com/stores/boyland-knitworks',\n",
    "  'photo urls': ['https://images4-f.ravelrycache.com/uploads/boylandknitworks/721285822/F6070E3A-B7EC-4126-BF70-712DAE7D3AFF-4161AA11-9C5A-407E-9A18-2D77FCB9EBAB_small2.jpg']},\n",
    " 'tornado-2': {'id': 1087901,\n",
    "  'url': 'http://www.ravelry.com/stores/astrid-muller-designs',\n",
    "  'photo urls': ['https://images4-g.ravelrycache.com/uploads/rubator/743717113/IMG_1081_small2.jpg']},\n",
    " 'city-limits-2': {'id': 1016281,\n",
    "  'url': 'http://www.ravelry.com/stores/tanis-fiber-arts-2',\n",
    "  'photo urls': ['https://images4-g.ravelrycache.com/uploads/tanisfiberarts/686318527/fullsizeoutput_40da_small2.jpeg']},\n",
    " 'yume': {'id': 839122,\n",
    "  'url': 'http://www.ravelry.com/stores/grasflecken',\n",
    "  'photo urls': ['https://images4-f.ravelrycache.com/uploads/lilalu/526545028/IMG_1552-001_small2.JPG']},\n",
    " 'so-faded': {'id': 742300,\n",
    "  'url': 'https://www.ravelry.com/stores/dreareneeknits',\n",
    "  'photo urls': ['https://images4-g.ravelrycache.com/uploads/dreareneeknits/442849891/untitled-78_small2.jpg']},\n",
    " 'the-throwover': {'id': 1014235,\n",
    "  'url': 'https://www.ravelry.com/stores/dreareneeknits',\n",
    "  'photo urls': ['https://images4-f.ravelrycache.com/uploads/dreareneeknits/688641604/6_small2.jpg']},\n",
    " 'felix-cardigan': {'id': 957863,\n",
    "  'url': 'http://www.ravelry.com/stores/savory-knitting',\n",
    "  'photo urls': ['https://images4-f.ravelrycache.com/uploads/savoryknitting/645646327/IMG_9495_small2.jpg']},\n",
    " 'rift-7': {'id': 944281,\n",
    "  'url': 'http://www.ravelry.com/stores/jacqueline-cieslak-designs',\n",
    "  'photo urls': ['https://images4-f.ravelrycache.com/uploads/JacquelineCieslak/635464340/IMG_2130_copy_small2.jpg']},\n",
    " 'shifty-2': {'id': 897128,\n",
    "  'url': 'https://www.ravelry.com/stores/dreareneeknits',\n",
    "  'photo urls': ['https://images4-f.ravelrycache.com/uploads/dreareneeknits/600733310/IMG_1227_small2.JPG']},\n",
    " 'forestland': {'id': 1086589,\n",
    "  'url': 'http://www.ravelry.com/stores/knitlovewool',\n",
    "  'photo urls': ['https://images4-f.ravelrycache.com/uploads/lovewool-knits/742788273/fullsizeoutput_8b4_small2.jpeg']},\n",
    " 'sunday-sweater-7': {'id': 888409,\n",
    "  'url': 'https://www.ravelry.com/stores/petiteknit',\n",
    "  'photo urls': ['https://images4-f.ravelrycache.com/uploads/PetiteKnitDK/592040660/Sunday_Sweater_1_small2.jpg']},\n",
    " 'elton-3': {'id': 861747,\n",
    "  'url': 'http://www.ravelry.com/stores/j-o-j-i',\n",
    "  'photo urls': ['https://images4-g.ravelrycache.com/uploads/jojilocat/546299631/WN7A4002_small2.jpg']},\n",
    " 'wool--honey': {'id': 838914,\n",
    "  'url': 'https://www.ravelry.com/stores/dreareneeknits',\n",
    "  'photo urls': ['https://images4-g.ravelrycache.com/uploads/dreareneeknits/525847812/untitled-48_small2.jpg']},\n",
    " 'the-throwback': {'id': 857539,\n",
    "  'url': 'https://www.ravelry.com/stores/dreareneeknits',\n",
    "  'photo urls': ['https://images4-f.ravelrycache.com/uploads/dreareneeknits/543345334/IMG_1058_small2.JPG']},\n",
    " 'magnolia-chunky-cardigan': {'id': 959956,\n",
    "  'url': 'http://www.ravelry.com/stores/camilla-vad-2',\n",
    "  'photo urls': ['https://images4-f.ravelrycache.com/uploads/CamillaVad/707378611/B37103B6-BCAE-4C1B-93E4-897BDE86D899_small2.jpeg']},\n",
    " 'comfort-fade-cardi': {'id': 781137,\n",
    "  'url': 'https://www.ravelry.com/stores/dreareneeknits',\n",
    "  'photo urls': ['https://images4-f.ravelrycache.com/uploads/dreareneeknits/475398387/1-148_small2.jpg']},\n",
    " 'nurtured': {'id': 865227,\n",
    "  'url': 'https://www.ravelry.com/stores/dreareneeknits',\n",
    "  'photo urls': ['https://images4-g.ravelrycache.com/uploads/dreareneeknits/544579894/untitled-41_small2.jpg']},\n",
    " 'changing-paths': {'id': 1088759,\n",
    "  'url': '',\n",
    "  'photo urls': ['https://images4-g.ravelrycache.com/uploads/jojilocat/744344693/WN7A7602_small2.jpg']},\n",
    " 'sipila': {'id': 833778,\n",
    "  'url': 'https://www.ravelry.com/stores/boyland-knitworks',\n",
    "  'photo urls': ['https://images4-g.ravelrycache.com/uploads/boylandknitworks/521150793/Screen_Shot_2018-05-08_at_6.23.25_PM_small2.png']},\n",
    " 'evergreen-cardigan-2': {'id': 1088749,\n",
    "  'url': '',\n",
    "  'photo urls': ['https://images4-g.ravelrycache.com/uploads/veera/743911302/IMG_6711-2-Editar_small2.jpg']},\n",
    " 'modern-vintage-sweater': {'id': 1088758,\n",
    "  'url': '',\n",
    "  'photo urls': ['https://images4-g.ravelrycache.com/uploads/veera/744184026/IMG_6496_small2.jpg']},\n",
    " 'sorrel-15': {'id': 984587,\n",
    "  'url': '',\n",
    "  'photo urls': ['https://images4-g.ravelrycache.com/uploads/WoolandPine/667044228/899BB01A-E44A-446A-B66D-9C3ACA230D99_small2.jpeg']},\n",
    " 'trescao-jumper': {'id': 989857,\n",
    "  'url': 'https://www.ravelry.com/stores/along-avec-anna---knitting-designs',\n",
    "  'photo urls': ['https://images4-g.ravelrycache.com/uploads/alongavecanna/669016467/1F8344CC-6029-467A-98AB-3A41ACDB1F2C_small2.jpeg']},\n",
    " 'forager-4': {'id': 1085622,\n",
    "  'url': 'http://www.ravelry.com/stores/grasflecken',\n",
    "  'photo urls': ['https://images4-g.ravelrycache.com/uploads/lilalu/742107957/IMG_8663_small2.jpg']},\n",
    " 'spark-5': {'id': 1050845,\n",
    "  'url': 'https://www.ravelry.com/stores/dreareneeknits',\n",
    "  'photo urls': ['https://images4-f.ravelrycache.com/uploads/dreareneeknits/716587487/IMG_1848_small2.JPG']},\n",
    " 'gardengate': {'id': 939945,\n",
    "  'url': 'http://www.ravelry.com/stores/knitlovewool',\n",
    "  'photo urls': ['https://images4-f.ravelrycache.com/uploads/lovewool-knits/633312211/fullsizeoutput_10b8_small2.jpeg']},\n",
    " 'cozy-classic-raglan': {'id': 988974,\n",
    "  'url': 'https://www.ravelry.com/stores/jessie-mae-martinson-jessie-maed-designs',\n",
    "  'photo urls': ['https://images4-f.ravelrycache.com/uploads/jessiemaed/670299849/68E71C78-2DED-49C4-8710-BE5540CAAE81_small2.jpg']},\n",
    " 'tecumseh-2': {'id': 822497,\n",
    "  'url': 'https://www.ravelry.com/stores/boyland-knitworks',\n",
    "  'photo urls': ['https://images4-g.ravelrycache.com/uploads/boylandknitworks/511690541/Facetune_16-03-2018-14-32-22_small2.JPG']},\n",
    " 'the-weekender-light': {'id': 1043109,\n",
    "  'url': 'https://www.ravelry.com/stores/dreareneeknits',\n",
    "  'photo urls': ['https://images4-g.ravelrycache.com/uploads/dreareneeknits/710789924/IMG_1817_small2.JPG']},\n",
    " 'turtle-dove-3': {'id': 855998,\n",
    "  'url': 'https://www.ravelry.com/stores/espace-tricot-designs',\n",
    "  'photo urls': ['https://images4-g.ravelrycache.com/uploads/EspaceTricot/542040980/turtledove_small2.jpg']},\n",
    " 'strange-brew': {'id': 775740,\n",
    "  'url': 'http://www.ravelry.com/stores/tin-can-knits-designs',\n",
    "  'photo urls': ['https://images4-g.ravelrycache.com/uploads/tincanknits/549013092/SB-strangebrew-09a_small2.jpg']},\n",
    " 'pink-velvet': {'id': 1006482,\n",
    "  'url': 'https://www.ravelry.com/stores/dreareneeknits',\n",
    "  'photo urls': ['https://images4-f.ravelrycache.com/uploads/dreareneeknits/682570494/pinkvelvet-27_copy_small2.jpg']},\n",
    " 'carbeth-cardigan': {'id': 814316,\n",
    "  'url': 'http://www.ravelry.com/stores/kate-davies-designs',\n",
    "  'photo urls': ['https://images4-g.ravelrycache.com/uploads/KateDaviesDesigns/505014435/Blob_small2']},\n",
    " 'mariechen': {'id': 918059,\n",
    "  'url': 'http://www.ravelry.com/stores/grasflecken',\n",
    "  'photo urls': ['https://images4-g.ravelrycache.com/uploads/lilalu/617131502/IMG_1116_small2.JPG']},\n",
    " 'fern--feather': {'id': 775391,\n",
    "  'url': 'http://www.ravelry.com/stores/knitlovewool',\n",
    "  'photo urls': ['https://images4-f.ravelrycache.com/uploads/hannahbelle/471151248/5C0A4269_small2.jpg']},\n",
    " 'goldwing-2': {'id': 1012685,\n",
    "  'url': 'http://www.ravelry.com/stores/knitlovewool',\n",
    "  'photo urls': ['https://images4-f.ravelrycache.com/uploads/lovewool-knits/735917239/F4C0A557-160C-4948-BA3D-A1499FD0713D_small2.jpeg']},\n",
    " 'marettimo': {'id': 848725,\n",
    "  'url': 'https://www.ravelry.com/stores/boyland-knitworks',\n",
    "  'photo urls': ['https://images4-g.ravelrycache.com/uploads/boylandknitworks/535822594/E7B35A63-4CBD-4B08-B854-078D06FB117E_small2.JPG']},\n",
    " 'jupiter-crop': {'id': 1033986,\n",
    "  'url': 'https://www.ravelry.com/stores/boyland-knitworks',\n",
    "  'photo urls': ['https://images4-f.ravelrycache.com/uploads/boylandknitworks/703258812/photo4_small2.jpg']},\n",
    " 'sunday-cardigan-4': {'id': 904870,\n",
    "  'url': 'https://www.ravelry.com/stores/petiteknit',\n",
    "  'photo urls': ['https://images4-g.ravelrycache.com/uploads/PetiteKnitDK/607249155/Sunday_Cardigan_1_small2.jpg']},\n",
    " 'carbeth': {'id': 801053,\n",
    "  'url': 'http://www.ravelry.com/stores/kate-davies-designs',\n",
    "  'photo urls': ['https://images4-f.ravelrycache.com/uploads/KateDaviesDesigns/493021393/carbeth_01_copy_small2.jpg']},\n",
    " 'arboreal': {'id': 783068,\n",
    "  'url': 'http://www.ravelry.com/stores/knitlovewool',\n",
    "  'photo urls': ['https://images4-f.ravelrycache.com/uploads/Lovewool-Knits/476869819/DSC_0071__2__small2.JPG']},\n",
    " 'bean--olive': {'id': 1072478,\n",
    "  'url': 'https://www.ravelry.com/stores/dreareneeknits',\n",
    "  'photo urls': ['https://images4-f.ravelrycache.com/uploads/dreareneeknits/732783535/IMG_0184_small2.jpeg']},\n",
    " 'stripes-32': {'id': 1087512,\n",
    "  'url': 'https://www.ravelry.com/stores/dreareneeknits',\n",
    "  'photo urls': ['https://images4-g.ravelrycache.com/uploads/dreareneeknits/743362891/Custom-8_small2.jpg']},\n",
    " 'ghost-horses': {'id': 960660,\n",
    "  'url': 'https://www.ravelry.com/stores/boyland-knitworks',\n",
    "  'photo urls': ['https://images4-f.ravelrycache.com/uploads/boylandknitworks/643636858/6005349B-DDCC-4C40-BF1B-5D2288407537_small2.JPG']},\n",
    " 'koivua': {'id': 906148,\n",
    "  'url': 'https://www.ravelry.com/stores/boyland-knitworks',\n",
    "  'photo urls': ['https://images4-f.ravelrycache.com/uploads/boylandknitworks/608179569/IMG_7513_small2.jpg']},\n",
    " 'magnolia-26': {'id': 850976,\n",
    "  'url': 'http://www.ravelry.com/stores/camilla-vad-2',\n",
    "  'photo urls': ['https://images4-f.ravelrycache.com/uploads/CamillaVad/639154796/E826A140-2DA9-44FE-AB6C-5F59D44F0AE0_small2.jpeg']},\n",
    " 'seven-sisters-top': {'id': 1013695,\n",
    "  'url': 'http://blueskyfibers.com/',\n",
    "  'photo urls': ['https://images4-g.ravelrycache.com/uploads/BlueSkyFibers/685421860/P_SevenSistersTop_R_small2.jpg']},\n",
    " 'nordiska': {'id': 887688,\n",
    "  'url': 'https://www.ravelry.com/stores/boyland-knitworks',\n",
    "  'photo urls': ['https://images4-f.ravelrycache.com/uploads/boylandknitworks/591935633/JPEG_image-E20B5F757110-4_small2.jpeg']},\n",
    " 'doocot': {'id': 872372,\n",
    "  'url': 'http://www.ravelry.com/stores/kate-davies-designs',\n",
    "  'photo urls': ['https://images4-f.ravelrycache.com/uploads/KDDandco/728364385/Doocot_two-99_small2.jpg']},\n",
    " 'big-love-5': {'id': 889407,\n",
    "  'url': 'http://www.ravelry.com/stores/fall-masche-designs',\n",
    "  'photo urls': ['https://images4-g.ravelrycache.com/uploads/fallmasche/592252642/IMG_9894_2_small2.jpeg']},\n",
    " 'missoni-accomplished': {'id': 927710,\n",
    "  'url': 'https://www.ravelry.com/stores/espace-tricot-designs',\n",
    "  'photo urls': ['https://images4-f.ravelrycache.com/uploads/EspaceTricot/624694128/L1000835_small2.jpg']},\n",
    " 'stonecrop-pullover': {'id': 952303,\n",
    "  'url': 'https://www.ravelry.com/stores/dreareneeknits',\n",
    "  'photo urls': ['https://images4-g.ravelrycache.com/uploads/dreareneeknits/641379056/Test-45_copy_small2.jpg']},\n",
    " 'french-macaroon-2': {'id': 771194,\n",
    "  'url': 'http://www.ravelry.com/stores/the-noble-thread',\n",
    "  'photo urls': ['https://images4-g.ravelrycache.com/uploads/TheNobleThread/467869434/macaron2_small2.jpg']},\n",
    " 'simple-hug-cardi': {'id': 1040638,\n",
    "  'url': 'http://www.ravelry.com/stores/cozy-up-designs-by-the-stitchinsisters-designs',\n",
    "  'photo urls': ['https://images4-f.ravelrycache.com/uploads/cozyupknits/716890363/Simplehug2_small2.jpg']},\n",
    " 'lady-fingers-sweater': {'id': 1024795,\n",
    "  'url': 'http://www.ravelry.com/stores/morgan-woltersdorf',\n",
    "  'photo urls': ['https://images4-f.ravelrycache.com/uploads/Morthunder/696780095/IMG_7326_small2.jpg']},\n",
    " 'spector-2': {'id': 884555,\n",
    "  'url': 'http://www.ravelry.com/stores/j-o-j-i',\n",
    "  'photo urls': ['https://images4-g.ravelrycache.com/uploads/jojilocat/588957772/WN7A4087_small2.jpg']},\n",
    " 'aldous-2': {'id': 961755,\n",
    "  'url': 'http://www.ravelry.com/stores/grasflecken',\n",
    "  'photo urls': ['https://images4-f.ravelrycache.com/uploads/lilalu/647718192/IMG_0652_small2.JPG']},\n",
    " 'sunbeam-sweater-2': {'id': 1088762,\n",
    "  'url': '',\n",
    "  'photo urls': ['https://images4-f.ravelrycache.com/uploads/veera/744191159/IMG_7123_small2.jpg']},\n",
    " 'harvest-10': {'id': 456074,\n",
    "  'url': 'http://www.ravelry.com/stores/tin-can-knits-designs',\n",
    "  'photo urls': ['https://images4-g.ravelrycache.com/uploads/tincanknits/200601957/SC-harvest-14_small2.jpg']},\n",
    " 'norwegian-fir-top-down-cardigan': {'id': 705322,\n",
    "  'url': 'http://www.ravelry.com/stores/oge-knitwear-designs',\n",
    "  'photo urls': ['https://images4-g.ravelrycache.com/uploads/oge-designs/409437768/024_small2.JPG']},\n",
    " 'novice-sweater': {'id': 873567,\n",
    "  'url': 'https://www.ravelry.com/stores/petiteknit',\n",
    "  'photo urls': ['https://images4-g.ravelrycache.com/uploads/PetiteKnitDK/723441535/jensen1_small2.jpg']},\n",
    " 'like-a-cloud': {'id': 836806,\n",
    "  'url': 'http://www.ravelry.com/stores/j-o-j-i',\n",
    "  'photo urls': ['https://images4-f.ravelrycache.com/uploads/jojilocat/524175746/WN7A2621-2_small2.jpg']},\n",
    " 'graphic-elements': {'id': 1087761,\n",
    "  'url': 'https://www.ravelry.com/stores/narrow-path-knitting-designs',\n",
    "  'photo urls': ['https://images4-g.ravelrycache.com/uploads/TamyGore/743013096/20201112_212819_small2.jpg']},\n",
    " 'le-pouf-2': {'id': 965339,\n",
    "  'url': 'http://shop.hedgehogfibres.com/',\n",
    "  'photo urls': ['https://images4-f.ravelrycache.com/uploads/HedgehogFibres/650516209/mb_hedgehog_fibres_2019-09-21_012_small2.JPG']},\n",
    " 'newleaf': {'id': 924996,\n",
    "  'url': 'http://www.ravelry.com/stores/knitlovewool',\n",
    "  'photo urls': ['https://images4-g.ravelrycache.com/uploads/lovewool-knits/622914209/fullsizeoutput_b27_small2.jpeg']},\n",
    " 'diaphanous-raglan': {'id': 944366,\n",
    "  'url': 'https://www.ravelry.com/stores/jessie-mae-martinson-jessie-maed-designs',\n",
    "  'photo urls': ['https://images4-f.ravelrycache.com/uploads/jessiemaed/626040459/ACS_0601_small2.JPG']},\n",
    " 'vellichor': {'id': 949070,\n",
    "  'url': 'https://www.ravelry.com/stores/dreareneeknits',\n",
    "  'photo urls': ['https://images4-f.ravelrycache.com/uploads/dreareneeknits/639596426/untitled-34_copy_small2.jpg']},\n",
    " 'metropolis-3': {'id': 966600,\n",
    "  'url': 'http://www.ravelry.com/stores/tanis-fiber-arts-2',\n",
    "  'photo urls': ['https://images4-f.ravelrycache.com/uploads/tanisfiberarts/651389508/cover_small2.jpg']},\n",
    " 'purl-strings-2': {'id': 1040101,\n",
    "  'url': 'http://www.ravelry.com/stores/heidi-kirrmaier-designs',\n",
    "  'photo urls': ['https://images4-g.ravelrycache.com/uploads/HeidiKdesigns/708140761/3070B6CD-18A4-4579-AA7D-68B9A740B1FF_small2.jpeg']},\n",
    " 'hinterland-5': {'id': 991497,\n",
    "  'url': 'http://www.ravelry.com/stores/knitlovewool',\n",
    "  'photo urls': ['https://images4-g.ravelrycache.com/uploads/lovewool-knits/670304525/fullsizeoutput_1457_small2.jpeg']},\n",
    " 'deschain': {'id': 732801,\n",
    "  'url': 'https://www.ravelry.com/stores/quince--co',\n",
    "  'photo urls': ['https://images4-g.ravelrycache.com/uploads/quinceandco/433266829/quince-co-deschain-leila-raabe-knitting-pattern-kestrel-1_small2.jpg']},\n",
    " 'foxtrot-cardigan': {'id': 930644,\n",
    "  'url': 'http://www.ravelry.com/stores/marie-greene-designs',\n",
    "  'photo urls': ['https://images4-g.ravelrycache.com/uploads/mariegreene/626978245/Foxtrot1_small2.jpg']},\n",
    " 'sunset-highway': {'id': 760196,\n",
    "  'url': 'https://www.ravelry.com/stores/boyland-knitworks',\n",
    "  'photo urls': ['https://images4-g.ravelrycache.com/uploads/boylandknitworks/458308817/SHS4_small2.jpg']},\n",
    " 'vanilla-sweater-2': {'id': 1032801,\n",
    "  'url': 'https://www.ravelry.com/stores/the-woolly-thistle',\n",
    "  'photo urls': ['https://images4-f.ravelrycache.com/uploads/nhkclaire/702729320/vanilla_sweater_gold_group-removebg-preview_small2.png']},\n",
    " 'poet': {'id': 863944,\n",
    "  'url': 'http://www.ravelry.com/stores/lunaknit',\n",
    "  'photo urls': ['https://images4-g.ravelrycache.com/uploads/lainemagazine/541658512/laine_6_sarinordlund_2_jh_small2.jpg']},\n",
    " 'ooh-la-la-4': {'id': 1061270,\n",
    "  'url': 'http://www.ravelry.com/stores/grasflecken',\n",
    "  'photo urls': ['https://images4-g.ravelrycache.com/uploads/lilalu/718150510/IMG_4852_small2.jpg']},\n",
    " 'a-warm-welcome': {'id': 1084910,\n",
    "  'url': 'http://www.ravelry.com/stores/von-hinterm-stein-designs',\n",
    "  'photo urls': ['https://images4-g.ravelrycache.com/uploads/HintermStein/741706305/000_welcome-baby-by-hinterm-stein_1ad_small2.jpg']},\n",
    " 'mycroft': {'id': 913969,\n",
    "  'url': 'http://www.ravelry.com/stores/grasflecken',\n",
    "  'photo urls': ['https://images4-f.ravelrycache.com/uploads/lilalu/613896897/fullsizeoutput_29ef_small2.jpeg']},\n",
    " 'birkin-3': {'id': 747810,\n",
    "  'url': 'https://www.ravelry.com/stores/boyland-knitworks',\n",
    "  'photo urls': ['https://images4-f.ravelrycache.com/uploads/lainemagazine/444790659/yoked_1_jh_small2.jpg']},\n",
    " 'junction-3': {'id': 1066400,\n",
    "  'url': 'https://www.ravelry.com/stores/dreareneeknits',\n",
    "  'photo urls': ['https://images4-g.ravelrycache.com/uploads/dreareneeknits/728230807/IMG_1935_small2.JPG']},\n",
    " 'dont-ask': {'id': 1036695,\n",
    "  'url': 'http://www.ravelry.com/stores/grasflecken',\n",
    "  'photo urls': ['https://images4-g.ravelrycache.com/uploads/lilalu/696230344/IMG_2066_small2.jpg']},\n",
    " 'vintersol': {'id': 800080,\n",
    "  'url': 'http://www.ravelry.com/stores/knitlovewool',\n",
    "  'photo urls': ['https://images4-f.ravelrycache.com/uploads/lovewool-knits/492119599/A8B0586C-0DE7-4666-BB17-20B0335D3504_small2.jpeg']},\n",
    " 'clapton': {'id': 1065145,\n",
    "  'url': 'http://www.ravelry.com/stores/grasflecken',\n",
    "  'photo urls': ['https://images4-g.ravelrycache.com/uploads/lilalu/727326941/IMG_7544_small2.jpg']},\n",
    " 'retrograde-4': {'id': 1087759,\n",
    "  'url': 'https://www.ravelry.com/stores/narrow-path-knitting-designs',\n",
    "  'photo urls': ['https://images4-f.ravelrycache.com/uploads/TamyGore/742999975/20201111_173239_small2.jpg']},\n",
    " 'ninilchik-swoncho': {'id': 726789,\n",
    "  'url': 'https://www.ravelry.com/stores/boyland-knitworks',\n",
    "  'photo urls': ['https://images4-g.ravelrycache.com/uploads/boylandknitworks/429841042/E4011B74-6B08-46A2-A47E-6045E3ACD555_small2.jpg']},\n",
    " 'meadow-moon': {'id': 1037791,\n",
    "  'url': 'http://www.ravelry.com/stores/knitlovewool',\n",
    "  'photo urls': ['https://images4-f.ravelrycache.com/uploads/lovewool-knits/706040317/DSC_0902_small2.jpeg']},\n",
    " 'darkwater': {'id': 891054,\n",
    "  'url': 'http://www.ravelry.com/stores/knitlovewool',\n",
    "  'photo urls': ['https://images4-g.ravelrycache.com/uploads/lovewool-knits/629595180/fullsizeoutput_e99_small2.jpeg']},\n",
    " 'cozy-classic-light': {'id': 1066011,\n",
    "  'url': 'https://www.ravelry.com/stores/jessie-mae-martinson-jessie-maed-designs',\n",
    "  'photo urls': ['https://images4-g.ravelrycache.com/uploads/jessiemaed/728065904/0504C028-FA24-48E2-A1F6-316EBEF7A786_small2.jpeg']},\n",
    " 'newborn-vertebrae': {'id': 270527,\n",
    "  'url': 'https://www.ravelry.com/stores/kelly-van-niekerks-ravelry-store',\n",
    "  'photo urls': ['https://images4-g.ravelrycache.com/uploads/MVick/239467058/image_small2.jpg']},\n",
    " 'hitofude-cardigan': {'id': 440784,\n",
    "  'url': 'http://www.ravelry.com/stores/please-dont-eat-the-daisies',\n",
    "  'photo urls': ['https://images4-g.ravelrycache.com/flickr/9/6/7/9679091926/9679091926_n.jpg']},\n",
    " 'turtle-dove-ii': {'id': 966254,\n",
    "  'url': 'https://www.ravelry.com/stores/espace-tricot-designs',\n",
    "  'photo urls': ['https://images4-f.ravelrycache.com/uploads/EspaceTricot/651227677/157A3DA1-82D6-4E8C-800A-1BC59AD91814_small2.jpeg']},\n",
    " 'no-frills-cardigan': {'id': 772466,\n",
    "  'url': 'https://www.ravelry.com/stores/petiteknit',\n",
    "  'photo urls': ['https://images4-f.ravelrycache.com/uploads/PetiteKnitDK/468972235/Ingen_Dikkedarer_Cardigan_1_small2.jpg']},\n",
    " 'pengweeno': {'id': 941487,\n",
    "  'url': 'http://www.ravelry.com/stores/westknits',\n",
    "  'photo urls': ['https://images4-g.ravelrycache.com/uploads/westknits/634325221/IMG_1555_small2.jpg']},\n",
    " 'cedar-pullover': {'id': 970781,\n",
    "  'url': 'http://www.ravelry.com/stores/j-o-j-i',\n",
    "  'photo urls': ['https://images4-f.ravelrycache.com/uploads/jojilocat/654208892/WN7A7958-2-4_small2.jpg']},\n",
    " 'mini-unbearable-hoodie': {'id': 1064541,\n",
    "  'url': None,\n",
    "  'photo urls': ['https://images4-f.ravelrycache.com/uploads/bonjourlesgarcons/724949312/Mini_Unbearable_03_small2.jpeg']},\n",
    " 'ginny': {'id': 987283,\n",
    "  'url': 'https://www.ravelry.com/stores/dreareneeknits',\n",
    "  'photo urls': ['https://images4-f.ravelrycache.com/uploads/dreareneeknits/665989795/untitled-74_small2.jpg']},\n",
    " 'ingalls': {'id': 859590,\n",
    "  'url': 'https://www.ravelry.com/stores/boyland-knitworks',\n",
    "  'photo urls': ['https://images4-f.ravelrycache.com/uploads/boylandknitworks/544851861/E4F59D81-EA62-40A6-B28C-FA44AE371AB0_small2.JPG']},\n",
    " 'puerperium-cardigan': {'id': 243083,\n",
    "  'url': 'https://www.ravelry.com/stores/kelly-van-niekerks-ravelry-store',\n",
    "  'photo urls': ['https://images4-f.ravelrycache.com/uploads/gurnard/61908451/IMG_1200_small2.JPG']},\n",
    " 'riddari': {'id': 106061,\n",
    "  'url': 'https://www.ravelry.com/stores/istex-lopi',\n",
    "  'photo urls': ['https://images4-f.ravelrycache.com/uploads/annamargret5/392366718/L28_03_Riddari_1_small2.jpg']},\n",
    " 'alden-2': {'id': 1080758,\n",
    "  'url': 'http://www.ravelry.com/stores/knitlovewool',\n",
    "  'photo urls': ['https://images4-g.ravelrycache.com/uploads/lovewool-knits/738806912/fullsizeoutput_3a1_small2.jpeg']},\n",
    " 'september-sweater-2': {'id': 950920,\n",
    "  'url': 'https://www.ravelry.com/stores/petiteknit',\n",
    "  'photo urls': ['https://images4-f.ravelrycache.com/uploads/PetiteKnitDK/640980610/sep8_small2.jpg']},\n",
    " 'ankers-sweater': {'id': 731318,\n",
    "  'url': 'https://www.ravelry.com/stores/petiteknit',\n",
    "  'photo urls': ['https://images4-g.ravelrycache.com/uploads/PetiteKnitDK/652923317/jens3_small2.JPG']},\n",
    " 'rug-11': {'id': 785512,\n",
    "  'url': 'http://www.ravelry.com/stores/junko-okamoto-designs',\n",
    "  'photo urls': ['https://images4-f.ravelrycache.com/uploads/JunkoOkamoto/477555826/4AB30E54-D269-4B6F-B317-5331653CECFF_small2.jpeg']},\n",
    " 'susurrus-3': {'id': 1002224,\n",
    "  'url': '',\n",
    "  'photo urls': ['https://images4-g.ravelrycache.com/uploads/sophrscott/678389383/SUSURRUS_JOJI_LOCATELLI_PPQ32_SPRING2020_01_small2.jpg']},\n",
    " 'beekeeper-cardigan': {'id': 835285,\n",
    "  'url': 'http://www.ravelry.com/stores/marie-greene-designs',\n",
    "  'photo urls': ['https://images4-g.ravelrycache.com/uploads/mariegreene/527007706/P3390082_small2.JPG']},\n",
    " 'sonrae': {'id': 995516,\n",
    "  'url': 'http://www.ravelry.com/stores/knitlovewool',\n",
    "  'photo urls': ['https://images4-f.ravelrycache.com/uploads/lovewool-knits/675462214/fullsizeoutput_17fa_small2.jpeg']},\n",
    " 'the-v-back-tee': {'id': 855203,\n",
    "  'url': 'https://www.ravelry.com/stores/knitosophy-designs',\n",
    "  'photo urls': ['https://images4-g.ravelrycache.com/uploads/Knitosophy/540958218/Vback_today.2_small2.jpg']},\n",
    " 'little-love-3': {'id': 951728,\n",
    "  'url': 'http://www.ravelry.com/stores/fall-masche-designs',\n",
    "  'photo urls': ['https://images4-f.ravelrycache.com/uploads/fallmasche/641478846/IMG_2516_small2.jpeg']},\n",
    " 'nigella-8': {'id': 1089059,\n",
    "  'url': 'https://www.ravelry.com/stores/artherapy',\n",
    "  'photo urls': ['https://images4-g.ravelrycache.com/uploads/Tibisay/721336047/00AB8838-5F1D-443A-91B8-F231B6011B03-DFF706FE-5355-4203-BB6C-7CAD37E2B724_small2.jpeg']},\n",
    " 'winterfell-cardigan': {'id': 819667,\n",
    "  'url': 'https://www.ravelry.com/stores/katrin-schneider-designs',\n",
    "  'photo urls': ['https://images4-f.ravelrycache.com/uploads/Ahribokatrinchen/509781444/Foto_08.03.18__18_17_09_small2.jpg']},\n",
    " 'copenhagen-cardigan': {'id': 921229,\n",
    "  'url': 'https://www.ravelry.com/stores/petiteknit',\n",
    "  'photo urls': ['https://images4-g.ravelrycache.com/uploads/PetiteKnitDK/619734726/cop2_small2.jpg']},\n",
    " 'november20': {'id': 1086012,\n",
    "  'url': 'http://www.ravelry.com/stores/fall-masche-designs',\n",
    "  'photo urls': ['https://images4-g.ravelrycache.com/uploads/fallmasche/742354214/3025B289-A16C-4C94-93E2-0F78423F74E4-548F9DF0-871F-44FD-AC21-016FD28D9C6D_small2.jpeg']},\n",
    " 'so-faded-pint-sized': {'id': 742301,\n",
    "  'url': 'https://www.ravelry.com/stores/dreareneeknits',\n",
    "  'photo urls': ['https://images4-f.ravelrycache.com/uploads/dreareneeknits/442845358/SFPint_small2.jpg']},\n",
    " 'whitehorse-2': {'id': 772417,\n",
    "  'url': 'https://www.ravelry.com/stores/boyland-knitworks',\n",
    "  'photo urls': ['https://images4-f.ravelrycache.com/uploads/boylandknitworks/468902645/whitehorse_2_small2.jpg']},\n",
    " 'glenbarrow': {'id': 1058751,\n",
    "  'url': 'http://www.ravelry.com/stores/stolen-stitches',\n",
    "  'photo urls': ['https://images4-g.ravelrycache.com/uploads/Littlefellers/722336807/IMG_9067_small2.jpeg']},\n",
    " 'mountain-mist-2': {'id': 865522,\n",
    "  'url': 'http://tincanknits.com/collection-strangebrew.html',\n",
    "  'photo urls': ['https://images4-f.ravelrycache.com/uploads/tincanknits/546518161/SB-mountainmist-b-5_small2.jpg']},\n",
    " 'fonda': {'id': 1087116,\n",
    "  'url': 'https://www.ravelry.com/stores/boyland-knitworks',\n",
    "  'photo urls': ['https://images4-g.ravelrycache.com/uploads/boylandknitworks/743205196/FE968652-D960-4100-8EFA-FB5A162ABE42-06201D94-7A60-4C70-B32F-52C4DA8F93C4_small2.jpg']},\n",
    " 'manou': {'id': 960835,\n",
    "  'url': 'http://www.ravelry.com/stores/grasflecken',\n",
    "  'photo urls': ['https://images4-f.ravelrycache.com/uploads/lilalu/647561650/IMG_0776_small2.JPG']},\n",
    " 'sunshine-coast': {'id': 683027,\n",
    "  'url': 'http://www.ravelry.com/stores/heidi-kirrmaier-designs',\n",
    "  'photo urls': ['https://images4-g.ravelrycache.com/flickr/2/8/4/28462957156/28462957156_n.jpg']},\n",
    " 'night-groove': {'id': 1005915,\n",
    "  'url': 'http://www.ravelry.com/stores/grasflecken',\n",
    "  'photo urls': ['https://images4-f.ravelrycache.com/uploads/lilalu/677744384/IMG_6978_small2.jpg']},\n",
    " 'colour-block-patchwork-cardigan': {'id': 1048092,\n",
    "  'url': 'https://www.jwanderson.com/gb/cardigan-pattern',\n",
    "  'photo urls': ['https://images4-g.ravelrycache.com/uploads/ellagordondesigns/714607489/FEC33676-DD41-4C95-B16B-E42A2629608C_small2.jpeg']},\n",
    " 'column-3': {'id': 901644,\n",
    "  'url': 'https://www.ravelry.com/stores/plain-needle-works-2',\n",
    "  'photo urls': ['https://images4-f.ravelrycache.com/uploads/pucco/604879836/IMG_1828_small2.jpg']},\n",
    " 'ravello': {'id': 427616,\n",
    "  'url': 'http://www.ravelry.com/stores/grasflecken',\n",
    "  'photo urls': ['https://images4-g.ravelrycache.com/uploads/lilalu/179998540/IMG_3657-001_small2.JPG']},\n",
    " 'campside-cardi': {'id': 594331,\n",
    "  'url': 'http://www.ravelry.com/stores/twolittleplums',\n",
    "  'photo urls': ['https://images4-g.ravelrycache.com/uploads/AliciaPlum/314968912/IMG_8540_small2.jpg']},\n",
    " 'solvi': {'id': 1075929,\n",
    "  'url': 'http://www.ravelry.com/stores/knitlovewool',\n",
    "  'photo urls': ['https://images4-g.ravelrycache.com/uploads/lovewool-knits/735321731/fullsizeoutput_16f_small2.jpeg']},\n",
    " 'my-boy-lollipop': {'id': 869199,\n",
    "  'url': 'http://gettingpurlywithit.com/',\n",
    "  'photo urls': ['https://images4-g.ravelrycache.com/uploads/GettingPurly/551656925/MyBoyLollipopPink_-_1_small2.jpg']},\n",
    " 'main-squeeze-cardigan': {'id': 958486,\n",
    "  'url': 'https://www.moderndailyknitting.com/shop/mason-dixon-knitting-field-guide-no-12-big-joy/',\n",
    "  'photo urls': ['https://images4-g.ravelrycache.com/uploads/mdkjanet19/644696062/MDK_FG12_07_Cardigan1_4111_650x650_small2.jpg']},\n",
    " 'sawyer-7': {'id': 1086312,\n",
    "  'url': 'http://www.ravelry.com/stores/lunaknit',\n",
    "  'photo urls': ['https://images4-g.ravelrycache.com/uploads/sarijaotto/742647769/upload_small2']},\n",
    " 'ankers-sweater---my-size': {'id': 738121,\n",
    "  'url': 'https://www.ravelry.com/stores/petiteknit',\n",
    "  'photo urls': ['https://images4-g.ravelrycache.com/uploads/PetiteKnitDK/667168824/anker2_small2.jpg']},\n",
    " 'paloma-15': {'id': 1000531,\n",
    "  'url': 'https://www.ravelry.com/stores/espace-tricot-designs',\n",
    "  'photo urls': ['https://images4-g.ravelrycache.com/uploads/EspaceTricot/678682293/ABF7AEFE-7BD6-4BEE-A349-0D04796B4329_small2.jpeg']},\n",
    " 'boxy': {'id': 337715,\n",
    "  'url': 'http://www.ravelry.com/stores/j-o-j-i',\n",
    "  'photo urls': ['https://images4-g.ravelrycache.com/uploads/jojilocat/114984679/Boxy_01_small2.jpg']},\n",
    " 'chauncey-2': {'id': 891408,\n",
    "  'url': 'http://www.ravelry.com/stores/grasflecken',\n",
    "  'photo urls': ['https://images4-g.ravelrycache.com/uploads/lilalu/595875454/IMG_8171-001_small2.JPG']},\n",
    " 'knitorious-rbg': {'id': 885770,\n",
    "  'url': 'https://www.ravelry.com/stores/parkknit',\n",
    "  'photo urls': ['https://images4-f.ravelrycache.com/uploads/parknknitofficial/589747306/IMG_3686_2_small2.jpg']},\n",
    " 'louisiana-sweater': {'id': 993179,\n",
    "  'url': 'https://www.ravelry.com/stores/petiteknit',\n",
    "  'photo urls': ['https://images4-f.ravelrycache.com/uploads/PetiteKnitDK/744655071/louisiana1_2_small2.jpg']},\n",
    " 'gramps': {'id': 259848,\n",
    "  'url': 'http://www.tincanknits.com/',\n",
    "  'photo urls': ['https://images4-g.ravelrycache.com/uploads/tincanknits/243461219/9M-gramps-27_small2.jpg']},\n",
    " 'brightfeather': {'id': 986748,\n",
    "  'url': 'http://www.ravelry.com/stores/knitlovewool',\n",
    "  'photo urls': ['https://images4-f.ravelrycache.com/uploads/lovewool-knits/665676886/fullsizeoutput_222_small2.jpeg']},\n",
    " 'sommarkoftan-2020--the-summer-cardigan-2020': {'id': 1045126,\n",
    "  'url': 'http://www.jarbo.se/',\n",
    "  'photo urls': ['https://images4-g.ravelrycache.com/uploads/MajasManufaktur/712135443/1678C43E-22DF-431E-84F9-7CCEC2967620_small2.jpeg']},\n",
    " 'silverlining': {'id': 994876,\n",
    "  'url': 'http://www.ravelry.com/stores/knitlovewool',\n",
    "  'photo urls': ['https://images4-f.ravelrycache.com/uploads/lovewool-knits/674174618/fullsizeoutput_17ce_small2.jpeg']},\n",
    " 'panglossian-sweater': {'id': 1035803,\n",
    "  'url': 'http://www.ravelry.com/stores/morgan-woltersdorf',\n",
    "  'photo urls': ['https://images4-g.ravelrycache.com/uploads/Morthunder/705161646/99687D29-2247-496B-AC1F-57013047217B_2_small2.JPG']},\n",
    " 'telja': {'id': 723693,\n",
    "  'url': 'http://www.ravelry.com/stores/knitlovewool',\n",
    "  'photo urls': ['https://images4-g.ravelrycache.com/uploads/Lovewool-Knits/426722913/IMG_0180_small2.jpg']},\n",
    " 'tiberius': {'id': 1076945,\n",
    "  'url': 'http://www.ravelry.com/stores/grasflecken',\n",
    "  'photo urls': ['https://images4-f.ravelrycache.com/uploads/lilalu/735994970/IMG_9929_small2.jpg']},\n",
    " 'midcoast': {'id': 973002,\n",
    "  'url': 'http://www.ravelry.com/stores/knitlovewool',\n",
    "  'photo urls': ['https://images4-g.ravelrycache.com/uploads/lovewool-knits/655683804/fullsizeoutput_1271_small2.jpeg']},\n",
    " 'celosias': {'id': 1044943,\n",
    "  'url': 'http://www.ravelry.com/stores/knitlovewool',\n",
    "  'photo urls': ['https://images4-g.ravelrycache.com/uploads/lovewool-knits/712276874/DSC_0366_small2.jpeg']},\n",
    " 'autumn-league-pullover': {'id': 852742,\n",
    "  'url': 'https://www.ravelry.com/stores/two-of-wands',\n",
    "  'photo urls': ['https://images4-f.ravelrycache.com/uploads/TwoOfWands/539344556/AF72F836-51DF-4F54-9E81-A0FE5731D3E6_small2.JPG']},\n",
    " 'understated-2': {'id': 912355,\n",
    "  'url': 'https://www.interpretationsbyjojiandveera.com',\n",
    "  'photo urls': ['https://images4-g.ravelrycache.com/uploads/jojilocat/612857756/BL3A8334_small2.jpg']},\n",
    " 'sunday-cardigan---mohair-edition': {'id': 928976,\n",
    "  'url': 'https://www.ravelry.com/stores/petiteknit',\n",
    "  'photo urls': ['https://images4-g.ravelrycache.com/uploads/PetiteKnitDK/625784204/sun5_small2.jpg']},\n",
    " 'letho': {'id': 1062836,\n",
    "  'url': None,\n",
    "  'photo urls': ['https://images4-g.ravelrycache.com/uploads/Moonstruckmermaid/725041836/Shawl_Collar_Cardi_back_2_small2.jpg']},\n",
    " 'snow-falling-on-cedars': {'id': 1088958,\n",
    "  'url': None,\n",
    "  'photo urls': ['https://images4-g.ravelrycache.com/uploads/TuffCityKnits/744553239/4B4388D1-5F15-49B7-9B52-376C76DD40E9_small2.jpg']},\n",
    " 'strathcona-sweater': {'id': 781496,\n",
    "  'url': 'http://www.ravelry.com/stores/good-night-day',\n",
    "  'photo urls': ['https://images4-g.ravelrycache.com/uploads/goodnightdayknits/508401160/AWxGND20_small2.jpg']},\n",
    " 'whitmoor-sweater': {'id': 1004612,\n",
    "  'url': None,\n",
    "  'photo urls': ['https://images4-f.ravelrycache.com/uploads/tailoressstudio/681424934/whitmoor_cover_small2.jpg']},\n",
    " 'treysta': {'id': 777540,\n",
    "  'url': 'http://www.ravelry.com/stores/knitlovewool',\n",
    "  'photo urls': ['https://images4-g.ravelrycache.com/uploads/Lovewool-Knits/472751977/DSC_1260_small2.JPG']},\n",
    " 'rose-74': {'id': 819713,\n",
    "  'url': 'https://www.ravelry.com/stores/dreareneeknits',\n",
    "  'photo urls': ['https://images4-g.ravelrycache.com/uploads/dreareneeknits/508412234/untitled-6_small2.jpg']},\n",
    " 'party-top': {'id': 861267,\n",
    "  'url': 'https://www.ravelry.com/stores/abbyeknits-designs',\n",
    "  'photo urls': ['https://images4-g.ravelrycache.com/uploads/abbyedahl/545870252/Screen_Shot_2018-07-25_at_5.06.03_PM_small2.png']},\n",
    " 'altheda-2': {'id': 932512,\n",
    "  'url': 'http://www.ravelry.com/stores/knitlovewool',\n",
    "  'photo urls': ['https://images4-f.ravelrycache.com/uploads/lovewool-knits/656849719/fullsizeoutput_1291_small2.jpeg']},\n",
    " 'vega-8': {'id': 1085638,\n",
    "  'url': None,\n",
    "  'photo urls': ['https://images4-f.ravelrycache.com/uploads/tornedalsfrun/742156115/03A21263-C3A7-4497-BFE4-D4AD78108708_small2.jpeg']},\n",
    " 'floozy-2': {'id': 851767,\n",
    "  'url': 'http://www.ravelry.com/stores/truly-myrtle-designs',\n",
    "  'photo urls': ['https://images4-g.ravelrycache.com/uploads/trulymyrtle/538160111/IMG_5439_small2.jpg']},\n",
    " 'rosa-cardigan-5': {'id': 927582,\n",
    "  'url': 'https://www.ravelry.com/stores/along-avec-anna---knitting-designs',\n",
    "  'photo urls': ['https://images4-f.ravelrycache.com/uploads/alongavecanna/622486147/IMG_7070_small2.jpg']},\n",
    " 'simple-something': {'id': 1000790,\n",
    "  'url': 'http://www.ravelry.com/stores/fall-masche-designs',\n",
    "  'photo urls': ['https://images4-f.ravelrycache.com/uploads/fallmasche/678198974/FEA437EF-C9CE-460C-A67F-5A715A90BA32_small2.jpeg']},\n",
    " 'niamh-11': {'id': 932468,\n",
    "  'url': 'http://www.ravelry.com/stores/grasflecken',\n",
    "  'photo urls': ['https://images4-g.ravelrycache.com/uploads/lilalu/628256287/IMG_7926_small2.JPG']},\n",
    " 'aurealis-2': {'id': 1022518,\n",
    "  'url': 'http://www.ravelry.com/stores/knitlovewool',\n",
    "  'photo urls': ['https://images4-g.ravelrycache.com/uploads/lovewool-knits/694894841/DSC_0762_small2.jpeg']},\n",
    " 'april-cardigan-2': {'id': 1025270,\n",
    "  'url': 'https://www.ravelry.com/stores/petiteknit',\n",
    "  'photo urls': ['https://images4-g.ravelrycache.com/uploads/PetiteKnitDK/697258781/april1_small2.jpg']},\n",
    " 'vintage-83': {'id': 1023353,\n",
    "  'url': 'https://www.ravelry.com/stores/dreareneeknits',\n",
    "  'photo urls': ['https://images4-f.ravelrycache.com/uploads/dreareneeknits/695454711/4_small2.jpg']},\n",
    " 'cambito': {'id': 1062954,\n",
    "  'url': 'https://www.ravelry.com/stores/katrin-schneider-designs',\n",
    "  'photo urls': ['https://images4-f.ravelrycache.com/uploads/Ahribokatrinchen/725660791/Foto_28.08.20__15_49_27_small2.jpg']},\n",
    " 'nuuk-3': {'id': 714391,\n",
    "  'url': 'https://lainemagazine.com/',\n",
    "  'photo urls': ['https://images4-f.ravelrycache.com/uploads/lainemagazine/514633159/nuuk_1_small2.jpg']},\n",
    " 'ursina': {'id': 1074520,\n",
    "  'url': 'http://www.ravelry.com/stores/jacqueline-cieslak-designs',\n",
    "  'photo urls': ['https://images4-g.ravelrycache.com/uploads/JacquelineCieslak/733331058/cover_small2.jpg']},\n",
    " 'the-classic-2': {'id': 1072713,\n",
    "  'url': 'https://www.ravelry.com/stores/espace-tricot-designs',\n",
    "  'photo urls': ['https://images4-g.ravelrycache.com/uploads/EspaceTricot/732898113/IMG_0019_small2.jpeg']},\n",
    " 'dog-star': {'id': 777830,\n",
    "  'url': 'http://www.tincanknits.com/',\n",
    "  'photo urls': ['https://images4-g.ravelrycache.com/uploads/tincanknits/471451601/SB-dogstar-01b_small2.jpg']},\n",
    " 'very-v-neck-raglan': {'id': 1048702,\n",
    "  'url': 'https://www.ravelry.com/stores/jessie-mae-martinson-jessie-maed-designs',\n",
    "  'photo urls': ['https://images4-g.ravelrycache.com/uploads/jessiemaed/715377113/76204722-C071-48B0-AEF7-0E8D84762A5B_small2.jpeg']},\n",
    " 'teddy-bear-sweater-4': {'id': 710751,\n",
    "  'url': 'https://www.ravelry.com/stores/petiteknit',\n",
    "  'photo urls': ['https://images4-f.ravelrycache.com/uploads/PetiteKnitDK/681145434/bamse6_small2.jpg']},\n",
    " 'the-easy-bulky-one': {'id': 808102,\n",
    "  'url': 'http://www.ravelry.com/stores/j-o-j-i',\n",
    "  'photo urls': ['https://images4-f.ravelrycache.com/uploads/jojilocat/499874822/WN7A1310_small2.jpg']},\n",
    " 'gloam': {'id': 1041807,\n",
    "  'url': 'https://www.ravelry.com/stores/boyland-knitworks',\n",
    "  'photo urls': ['https://images4-f.ravelrycache.com/uploads/boylandknitworks/709669672/photo1_8_small2.jpg']},\n",
    " 'puntal': {'id': 1076435,\n",
    "  'url': None,\n",
    "  'photo urls': ['https://images4-f.ravelrycache.com/uploads/tejereningles/735699391/Puntal_main_square_800px__1__small2.jpg']},\n",
    " 'ankers-jacket': {'id': 736343,\n",
    "  'url': 'https://www.ravelry.com/stores/petiteknit',\n",
    "  'photo urls': ['https://images4-g.ravelrycache.com/uploads/PetiteKnitDK/661225807/anker1_small2.jpg']},\n",
    " 'homebody': {'id': 1019395,\n",
    "  'url': 'http://www.ravelry.com/stores/heidi-kirrmaier-designs',\n",
    "  'photo urls': ['https://images4-f.ravelrycache.com/uploads/HeidiKdesigns/689980882/fullsizeoutput_aae4_small2.jpeg']},\n",
    " 'guell': {'id': 1084113,\n",
    "  'url': 'http://www.ravelry.com/stores/pelykh-natalie-designs',\n",
    "  'photo urls': ['https://images4-f.ravelrycache.com/uploads/knitforsweet/741162501/36_small2.jpg']},\n",
    " 'stockholm-sweater-2': {'id': 852155,\n",
    "  'url': 'https://www.ravelry.com/stores/petiteknit',\n",
    "  'photo urls': ['https://images4-f.ravelrycache.com/uploads/PetiteKnitDK/697283965/StockholmCropped_small2.jpg']},\n",
    " 'lille-dahlia-solo': {'id': 918137,\n",
    "  'url': 'https://www.ravelry.com/stores/lene-holme-samse-at-ravelry',\n",
    "  'photo urls': ['https://images4-g.ravelrycache.com/uploads/holme/617373865/Lille_Dahlia_0_small2.jpg']},\n",
    " 'dreyma': {'id': 814164,\n",
    "  'url': 'http://www.ravelry.com/stores/knitlovewool',\n",
    "  'photo urls': ['https://images4-g.ravelrycache.com/uploads/GriffinCreek/504886123/DSCF8715_edit_small2.jpg']},\n",
    " 'sorbet-cardigan': {'id': 862327,\n",
    "  'url': 'https://millefrydknitwear.dk/',\n",
    "  'photo urls': ['https://images4-g.ravelrycache.com/uploads/Rabarberkage/613434827/EFF5AEC6-93FA-4801-AB68-FD64453AD47D_small2.jpeg']},\n",
    " 'guthrie': {'id': 840171,\n",
    "  'url': 'https://www.ravelry.com/stores/boyland-knitworks',\n",
    "  'photo urls': ['https://images4-g.ravelrycache.com/uploads/boylandknitworks/527619578/664C25DA-4769-4B41-9F1E-723B2881321F_small2.JPG']},\n",
    " 'lys-7': {'id': 914367,\n",
    "  'url': 'https://www.ravelry.com/stores/dreareneeknits',\n",
    "  'photo urls': ['https://images4-g.ravelrycache.com/uploads/dreareneeknits/614294002/IMG_1298_small2.JPG']},\n",
    " 'great-love': {'id': 900563,\n",
    "  'url': 'http://www.ravelry.com/stores/fall-masche-designs',\n",
    "  'photo urls': ['https://images4-g.ravelrycache.com/uploads/fallmasche/601408534/IMG_0264_small2.jpeg']},\n",
    " 'rosa-little': {'id': 951539,\n",
    "  'url': 'https://www.ravelry.com/stores/along-avec-anna---knitting-designs',\n",
    "  'photo urls': ['https://images4-f.ravelrycache.com/uploads/alongavecanna/641209146/_D725011_small2.JPG']},\n",
    " 'suolaulu-sweater': {'id': 1061645,\n",
    "  'url': None,\n",
    "  'photo urls': ['https://images4-f.ravelrycache.com/uploads/Ihtiriekkoknits/723419941/529DB8F2-5629-4758-933E-329AA2377204_small2.jpeg']},\n",
    " 'beyond-the-dunes': {'id': 950592,\n",
    "  'url': 'http://www.ravelry.com/stores/von-hinterm-stein-designs',\n",
    "  'photo urls': ['https://images4-g.ravelrycache.com/uploads/HintermStein/640649624/00_summerdunes-by-hinterm-stein-5a_small2.jpg']},\n",
    " 'jaycee': {'id': 824626,\n",
    "  'url': 'http://www.ravelry.com/stores/grasflecken',\n",
    "  'photo urls': ['https://images4-f.ravelrycache.com/uploads/lilalu/514125321/IMG_1253-001_small2.JPG']},\n",
    " 'mabrey-sweater': {'id': 1089027,\n",
    "  'url': 'https://www.ravelry.com/stores/september-knits',\n",
    "  'photo urls': ['https://images4-f.ravelrycache.com/uploads/rachaelmreese/744606572/October2020pullover-4_small2.jpg']},\n",
    " 'tsubaki-pullover': {'id': 993793,\n",
    "  'url': 'http://www.ravelry.com/stores/please-dont-eat-the-daisies',\n",
    "  'photo urls': ['https://images4-f.ravelrycache.com/uploads/roko/669764198/_2_small2.jpeg']},\n",
    " 'glenmore': {'id': 1021417,\n",
    "  'url': 'http://www.ravelry.com/stores/ysolda-teague-designs',\n",
    "  'photo urls': ['https://images4-f.ravelrycache.com/uploads/bleideag/694061153/Glenmore_indoor_Georsan__5_of_8__small2.jpg']},\n",
    " 'alaska-sweater': {'id': 904228,\n",
    "  'url': 'https://www.ravelry.com/stores/camille-descoteaux-designs',\n",
    "  'photo urls': ['https://images4-f.ravelrycache.com/uploads/camideco/606681293/camilledescoteauxALASKA_3_small2.jpg']},\n",
    " 'all-together-sweater': {'id': 1039799,\n",
    "  'url': 'http://www.ravelry.com/stores/j-o-j-i',\n",
    "  'photo urls': ['https://images4-f.ravelrycache.com/uploads/jojilocat/708287472/WN7A4219_small2.jpg']},\n",
    " 'reagan': {'id': 599723,\n",
    "  'url': 'http://www.ravelry.com/stores/grasflecken',\n",
    "  'photo urls': ['https://images4-f.ravelrycache.com/uploads/lilalu/318759062/IMG_7102_small2.JPG']},\n",
    " 'girlfriends-cardigan-anke': {'id': 798509,\n",
    "  'url': 'http://www.ravelry.com/stores/fall-masche-designs',\n",
    "  'photo urls': ['https://images4-g.ravelrycache.com/uploads/fallmasche/489618115/Blob_small2']},\n",
    " 'easy-eyelet-yoke-sweater': {'id': 914468,\n",
    "  'url': 'https://www.ravelry.com/stores/knitatude---chantal-miyagishima-designs',\n",
    "  'photo urls': ['https://images4-f.ravelrycache.com/uploads/Knitatude87/614559631/ACS_0011_small2.JPG']},\n",
    " 'gracious-4': {'id': 948359,\n",
    "  'url': 'https://www.ravelry.com/stores/espace-tricot-designs',\n",
    "  'photo urls': ['https://images4-g.ravelrycache.com/uploads/EspaceTricot/639291019/Untitled-8_small2.jpg']},\n",
    " 'elorie': {'id': 969683,\n",
    "  'url': 'http://www.ravelry.com/stores/blue-bee-studio',\n",
    "  'photo urls': ['https://images4-g.ravelrycache.com/uploads/bluebeestudio/653268580/robert_1_small2.png']},\n",
    " 'le-pouf-sweater': {'id': 977413,\n",
    "  'url': 'http://shop.hedgehogfibres.com/',\n",
    "  'photo urls': ['https://images4-f.ravelrycache.com/uploads/HedgehogFibres/658920661/mb_hedgehog_2019-11-01_027_small2.JPG']},\n",
    " 'the-purl-code': {'id': 919964,\n",
    "  'url': 'http://www.ravelry.com/stores/grasflecken',\n",
    "  'photo urls': ['https://images4-f.ravelrycache.com/uploads/lilalu/617130418/IMG_0875_small2.JPG']},\n",
    " 'high-lonesome': {'id': 1067494,\n",
    "  'url': 'https://www.ravelry.com/stores/boyland-knitworks',\n",
    "  'photo urls': ['https://images4-g.ravelrycache.com/uploads/boylandknitworks/729965112/9A2E3CE2-5BA7-4D29-A339-70015478035B_small2.jpeg']},\n",
    " 'sheer-v-sweater': {'id': 970742,\n",
    "  'url': 'https://www.ravelry.com/stores/jessie-mae-martinson-jessie-maed-designs',\n",
    "  'photo urls': ['https://images4-f.ravelrycache.com/uploads/jessiemaed/658236447/12B66872-546B-4D2E-B103-C3FE4F96F57A_small2.jpeg']},\n",
    " 'palm-canyon-video-sweater-class': {'id': 1013214,\n",
    "  'url': 'https://pattylyons.com/2018/11/meet-the-jetson-sweater-kit/',\n",
    "  'photo urls': ['https://images4-g.ravelrycache.com/uploads/PattyLyons/686337497/2252_zucker20200229edit_small2.jpg']},\n",
    " 'stockholm-slipover-v-neck': {'id': 1033141,\n",
    "  'url': None,\n",
    "  'photo urls': ['https://images4-g.ravelrycache.com/uploads/PetiteKnitDK/703141248/vneck3_small2.jpg']},\n",
    " 'calliope-13': {'id': 1063027,\n",
    "  'url': 'https://www.ravelry.com/stores/espace-tricot-designs',\n",
    "  'photo urls': ['https://images4-f.ravelrycache.com/uploads/EspaceTricot/725599973/IMG_8249_small2.jpg']},\n",
    " 'rituals': {'id': 1074644,\n",
    "  'url': 'http://www.ravelry.com/stores/j-o-j-i',\n",
    "  'photo urls': ['https://images4-f.ravelrycache.com/uploads/jojilocat/734283882/WN7A8658_small2.jpg']},\n",
    " 'eila-3': {'id': 1082708,\n",
    "  'url': 'https://www.pompommag.com/',\n",
    "  'photo urls': ['https://images4-g.ravelrycache.com/uploads/Aisleight/740184942/EILA_2x2.GARTER.RIB_IMG_2303_ReadySetRaglan_PomPomPublishing_small2.jpg']},\n",
    " 'baby-sophisticate-2': {'id': 117515,\n",
    "  'url': 'http://stockinette.wordpress.com/',\n",
    "  'photo urls': ['https://images4-f.ravelrycache.com/uploads/LindenHeflin/7652545/IMG_0036_small2.JPG']},\n",
    " 'derecho-2': {'id': 719295,\n",
    "  'url': 'http://www.berroco.com/patterns/pattern-booklets/386-berroco-remix-light',\n",
    "  'photo urls': ['https://images4-f.ravelrycache.com/uploads/alisonknits/418075273/6061_Remix_Derecho_small2.jpg']},\n",
    " 'elevenses': {'id': 1006484,\n",
    "  'url': 'http://www.ravelry.com/stores/frogginette-knitting-patterns',\n",
    "  'photo urls': ['https://images4-g.ravelrycache.com/uploads/frogginette/682916804/ElevensesMain_small2.jpeg']},\n",
    " 'lunenburg-pullover': {'id': 971392,\n",
    "  'url': 'http://www.ravelry.com/stores/savory-knitting',\n",
    "  'photo urls': ['https://images4-g.ravelrycache.com/uploads/savoryknitting/654709531/IMG_9621_small2.jpeg']},\n",
    " 'kukka-cardigan': {'id': 955197,\n",
    "  'url': 'https://www.ravelry.com/stores/rosa-p',\n",
    "  'photo urls': ['https://images4-f.ravelrycache.com/uploads/rosape/643538634/Kukka1_small2.jpg']},\n",
    " 'terrazzo-sweater': {'id': 1033464,\n",
    "  'url': 'https://www.ravelry.com/stores/petiteknit',\n",
    "  'photo urls': ['https://images4-g.ravelrycache.com/uploads/PetiteKnitDK/744652962/terrazzo_sweater_5_small2.jpeg']},\n",
    " 'erell-jumper': {'id': 866637,\n",
    "  'url': 'https://www.ravelry.com/stores/along-avec-anna---knitting-designs',\n",
    "  'photo urls': ['https://images4-f.ravelrycache.com/uploads/alongavecanna/550477779/IMG_0145_small2.JPG']},\n",
    " 'arachne-6': {'id': 954781,\n",
    "  'url': 'https://untangling-knots.com/project/spooky/',\n",
    "  'photo urls': ['https://images4-f.ravelrycache.com/uploads/AndiSatt/643662542/Arachne_Front_V_02_M_small2.jpg']},\n",
    " 'painting-bricks-sweater': {'id': 1046579,\n",
    "  'url': 'http://www.ravelry.com/stores/westknits',\n",
    "  'photo urls': ['https://images4-f.ravelrycache.com/uploads/westknits/712272745/PaintingBricksSweater20200422_0462_2048px_small2.jpg']},\n",
    " 'mandelbrot-2': {'id': 1087895,\n",
    "  'url': None,\n",
    "  'photo urls': ['https://images4-g.ravelrycache.com/uploads/Ciospy/743537489/000_small2.jpg']},\n",
    " 'penguono': {'id': 476481,\n",
    "  'url': '',\n",
    "  'photo urls': ['https://images4-g.ravelrycache.com/flickr/1/2/9/12952587564/12952587564_n.jpg']},\n",
    " 'balloon-cardigan': {'id': 832318,\n",
    "  'url': 'https://www.ravelry.com/stores/petiteknit',\n",
    "  'photo urls': ['https://images4-g.ravelrycache.com/uploads/PetiteKnitDK/556050919/Balloncardigan_6_small2.jpg']},\n",
    " 'lillet': {'id': 895432,\n",
    "  'url': 'http://babycocktails.blogspot.com/',\n",
    "  'photo urls': ['https://images4-g.ravelrycache.com/uploads/babycocktails/598835319/IMG_0599_small2.JPG']},\n",
    " 'madelyn-cardigan': {'id': 1088023,\n",
    "  'url': '',\n",
    "  'photo urls': ['https://images4-f.ravelrycache.com/uploads/pattyj/743782118/IMG_20201120_133803638_HDR_small2.jpg']},\n",
    " 'tilted-tunic': {'id': 1087636,\n",
    "  'url': 'https://www.ravelry.com/stores/i-need-it-crochet-designs',\n",
    "  'photo urls': ['https://images4-f.ravelrycache.com/uploads/INeedItCrochet/743516758/Photo_1605711039702_small2.jpg']},\n",
    " 'breathing-space': {'id': 646121,\n",
    "  'url': 'http://www.ravelry.com/stores/rain-knitwear-designs',\n",
    "  'photo urls': ['https://images4-g.ravelrycache.com/uploads/veera/358302208/Breathing_Space_1_small2.jpg']},\n",
    " 'vneck-boxy': {'id': 707750,\n",
    "  'url': 'http://www.ravelry.com/stores/j-o-j-i',\n",
    "  'photo urls': ['https://images4-g.ravelrycache.com/uploads/jojilocat/411351400/bVBoxy_003_small2.jpg']},\n",
    " 'balloon-sweater-4': {'id': 821793,\n",
    "  'url': 'https://www.ravelry.com/stores/petiteknit',\n",
    "  'photo urls': ['https://images4-f.ravelrycache.com/uploads/PetiteKnitDK/680729772/hvid6_small2.jpg']},\n",
    " 'margot-cardigan-2': {'id': 850420,\n",
    "  'url': 'https://www.ravelry.com/stores/along-avec-anna---knitting-designs',\n",
    "  'photo urls': ['https://images4-f.ravelrycache.com/uploads/alongavecanna/535323316/IMG_7843_small2.jpg']},\n",
    " 'yanis': {'id': 980654,\n",
    "  'url': 'http://www.ravelry.com/stores/grasflecken',\n",
    "  'photo urls': ['https://images4-f.ravelrycache.com/uploads/lilalu/661203840/BE001B20-A6D6-4F1B-90A6-9195383B5AE2_small2.jpeg']},\n",
    " 'gianluca': {'id': 1014860,\n",
    "  'url': 'http://www.ravelry.com/stores/grasflecken',\n",
    "  'photo urls': ['https://images4-f.ravelrycache.com/uploads/lilalu/687266027/C274C3CC-E9E2-4CFB-84D5-816E9C0191E1_small2.jpeg']},\n",
    " 'kaleidoscope-sweater-3': {'id': 1019946,\n",
    "  'url': 'http://www.ravelry.com/stores/knit-collage',\n",
    "  'photo urls': ['https://images4-f.ravelrycache.com/uploads/knitcollage/692884552/10_Kaleidoscope_Sweater_small2.jpg']},\n",
    " 'sayuri-sweater-2': {'id': 1063846,\n",
    "  'url': 'https://www.ravelry.com/stores/valentina-bogdanova-designs',\n",
    "  'photo urls': ['https://images4-g.ravelrycache.com/uploads/valentinasknits/726512453/04_1_small2.jpg']},\n",
    " 'bromelia-sweater': {'id': 1079754,\n",
    "  'url': 'http://www.ravelry.com/stores/aksenik-lyudmila-designs',\n",
    "  'photo urls': ['https://images4-f.ravelrycache.com/uploads/MrsKnowall/738181672/IMG_0526_small2.JPG']},\n",
    " 'sunnyside': {'id': 241733,\n",
    "  'url': 'http://www.ravelry.com/stores/tanis-fiber-arts-2',\n",
    "  'photo urls': ['https://images4-g.ravelrycache.com/uploads/cherylmac/72381820/DSC_0593_small2.JPG']}}"
   ]
  },
  {
   "cell_type": "code",
   "execution_count": 5,
   "metadata": {},
   "outputs": [],
   "source": [
    "import projects as proj"
   ]
  },
  {
   "cell_type": "code",
   "execution_count": 11,
   "metadata": {},
   "outputs": [],
   "source": [
    "link = 'https://www.ravelry.com/projects/' + str(proj.proj_by_pattern[id]['projects'][i]['user_id']) + '/' + str(proj.proj_by_pattern[id]['projects'][i]['id'])\n"
   ]
  },
  {
   "cell_type": "code",
   "execution_count": 13,
   "metadata": {},
   "outputs": [
    {
     "data": {
      "text/plain": [
       "25"
      ]
     },
     "execution_count": 13,
     "metadata": {},
     "output_type": "execute_result"
    }
   ],
   "source": [
    "len(proj.proj_by_pattern[781496]['projects'])"
   ]
  },
  {
   "cell_type": "code",
   "execution_count": 29,
   "metadata": {},
   "outputs": [],
   "source": [
    "for key in pattern_dict.keys():\n",
    "    pattern_dict[key]['projects'] = []\n",
    "    if pattern_dict[key]['id'] in proj.proj_by_pattern.keys():\n",
    "        pat_id = pattern_dict[key]['id']\n",
    "        projects_list = proj.proj_by_pattern[pat_id]['projects']\n",
    "        for i in range(len(projects_list)):\n",
    "            link = 'https://www.ravelry.com/projects/' \\\n",
    "            + str(projects_list[i]['user_id']) + '/' + str(projects_list[i]['id'])\n",
    "            pattern_dict[key]['projects'].append(link)\n"
   ]
  },
  {
   "cell_type": "code",
   "execution_count": 30,
   "metadata": {},
   "outputs": [
    {
     "data": {
      "text/plain": [
       "{'id': 1087512,\n",
       " 'url': 'https://www.ravelry.com/stores/dreareneeknits',\n",
       " 'photo urls': ['https://images4-g.ravelrycache.com/uploads/dreareneeknits/743362891/Custom-8_small2.jpg'],\n",
       " 'projects': ['https://www.ravelry.com/projects/3879416/26718553',\n",
       "  'https://www.ravelry.com/projects/4054819/26517636',\n",
       "  'https://www.ravelry.com/projects/3822345/27047540',\n",
       "  'https://www.ravelry.com/projects/5746096/26621684',\n",
       "  'https://www.ravelry.com/projects/2041116/26433234',\n",
       "  'https://www.ravelry.com/projects/5269278/27053382',\n",
       "  'https://www.ravelry.com/projects/3905584/26697236',\n",
       "  'https://www.ravelry.com/projects/196735/26697057',\n",
       "  'https://www.ravelry.com/projects/407745/27053302',\n",
       "  'https://www.ravelry.com/projects/334117/27044873',\n",
       "  'https://www.ravelry.com/projects/3905584/26633703',\n",
       "  'https://www.ravelry.com/projects/2091/26455553',\n",
       "  'https://www.ravelry.com/projects/8387885/26506014',\n",
       "  'https://www.ravelry.com/projects/709020/26426877',\n",
       "  'https://www.ravelry.com/projects/522568/26445299',\n",
       "  'https://www.ravelry.com/projects/836/26490756',\n",
       "  'https://www.ravelry.com/projects/8090407/27052414',\n",
       "  'https://www.ravelry.com/projects/280849/26488139',\n",
       "  'https://www.ravelry.com/projects/293469/26454077',\n",
       "  'https://www.ravelry.com/projects/291482/26425938',\n",
       "  'https://www.ravelry.com/projects/281680/27097187',\n",
       "  'https://www.ravelry.com/projects/4246961/27091972',\n",
       "  'https://www.ravelry.com/projects/2216756/27080113',\n",
       "  'https://www.ravelry.com/projects/526752/27080038',\n",
       "  'https://www.ravelry.com/projects/60134/27079672']}"
      ]
     },
     "execution_count": 30,
     "metadata": {},
     "output_type": "execute_result"
    }
   ],
   "source": [
    "pattern_dict['stripes-32']"
   ]
  },
  {
   "cell_type": "code",
   "execution_count": null,
   "metadata": {},
   "outputs": [],
   "source": [
    "ua = UserAgent()\n",
    "user_agent = {'User-agent': ua.random}\n",
    "\n",
    "for key in pattern_dict.keys():\n",
    "    if len(pattern_dict[key]['projects']) > 0:\n",
    "        for i in range(len(pattern_dict[key]['projects'])):\n",
    "            link = pattern_dict[key]['projects'][i]\n",
    "            result = requests.get(link, headers = user_agent)\n",
    "            soup = BeautifulSoup(result.content, 'html.parser')"
   ]
  },
  {
   "cell_type": "code",
   "execution_count": 31,
   "metadata": {
    "collapsed": true,
    "jupyter": {
     "outputs_hidden": true
    }
   },
   "outputs": [
    {
     "ename": "AttributeError",
     "evalue": "'NoneType' object has no attribute 'find_all'",
     "output_type": "error",
     "traceback": [
      "\u001b[0;31m---------------------------------------------------------------------------\u001b[0m",
      "\u001b[0;31mAttributeError\u001b[0m                            Traceback (most recent call last)",
      "\u001b[0;32m<ipython-input-31-2b75e668a0d4>\u001b[0m in \u001b[0;36m<module>\u001b[0;34m\u001b[0m\n\u001b[1;32m      5\u001b[0m \u001b[0mresult\u001b[0m \u001b[0;34m=\u001b[0m \u001b[0mrequests\u001b[0m\u001b[0;34m.\u001b[0m\u001b[0mget\u001b[0m\u001b[0;34m(\u001b[0m\u001b[0mlink\u001b[0m\u001b[0;34m,\u001b[0m \u001b[0mheaders\u001b[0m \u001b[0;34m=\u001b[0m \u001b[0muser_agent\u001b[0m\u001b[0;34m)\u001b[0m\u001b[0;34m\u001b[0m\u001b[0;34m\u001b[0m\u001b[0m\n\u001b[1;32m      6\u001b[0m \u001b[0msoup\u001b[0m \u001b[0;34m=\u001b[0m \u001b[0mBeautifulSoup\u001b[0m\u001b[0;34m(\u001b[0m\u001b[0mresult\u001b[0m\u001b[0;34m.\u001b[0m\u001b[0mcontent\u001b[0m\u001b[0;34m,\u001b[0m \u001b[0;34m'html.parser'\u001b[0m\u001b[0;34m)\u001b[0m\u001b[0;34m\u001b[0m\u001b[0;34m\u001b[0m\u001b[0m\n\u001b[0;32m----> 7\u001b[0;31m \u001b[0;34m[\u001b[0m\u001b[0mimage\u001b[0m\u001b[0;34m[\u001b[0m\u001b[0;34m'src'\u001b[0m\u001b[0;34m]\u001b[0m \u001b[0;32mfor\u001b[0m \u001b[0mimage\u001b[0m \u001b[0;32min\u001b[0m \u001b[0msoup\u001b[0m\u001b[0;34m.\u001b[0m\u001b[0mfind\u001b[0m\u001b[0;34m(\u001b[0m\u001b[0;34m'div'\u001b[0m\u001b[0;34m,\u001b[0m \u001b[0mclass_\u001b[0m \u001b[0;34m=\u001b[0m \u001b[0;34m'photo_gallery_container'\u001b[0m\u001b[0;34m)\u001b[0m\u001b[0;34m.\u001b[0m\u001b[0mfind_all\u001b[0m\u001b[0;34m(\u001b[0m\u001b[0;34m'img'\u001b[0m\u001b[0;34m)\u001b[0m\u001b[0;34m]\u001b[0m\u001b[0;34m\u001b[0m\u001b[0;34m\u001b[0m\u001b[0m\n\u001b[0m",
      "\u001b[0;31mAttributeError\u001b[0m: 'NoneType' object has no attribute 'find_all'"
     ]
    }
   ],
   "source": [
    "ua = UserAgent()\n",
    "user_agent = {'User-agent': ua.random}\n",
    "\n",
    "link = 'https://www.ravelry.com/projects/280849/26488139'\n",
    "result = requests.get(link, headers = user_agent)\n",
    "soup = BeautifulSoup(result.content, 'html.parser')\n",
    "[image['src'] for image in soup.find('div', class_ = 'photo_gallery_container').find_all('img')]"
   ]
  },
  {
   "cell_type": "markdown",
   "metadata": {},
   "source": [
    "Projects are behind a login - will need to figure out an automated way to query the API for specific projects in order to pull projects in any serious amount.\n",
    "\n",
    "Classes of sweaters are seriously imbalanced after I've done some binning.\n",
    "1.  6 librarian cardigan (round neck cardigan with straight vertical opening)\n",
    "2. 4 v-neck cardigan\n",
    "3. 91 colorwork round neck sweater\n",
    "4. 3 boatneck sweater\n",
    "5. 14 librarian cardigan with fancy stitching\n",
    "6. 45 round neck sweater with fancy stitching\n",
    "7. 7 mock neck sweater\n",
    "8. 22 round neck sweater\n",
    "9. 1 shawl collar cardigan\n",
    "10. 7 dolman sleeve sweater\n",
    "11. 8 shawl collar cardigan with fancy stitching\n",
    "12. 1 colorwork shawl collar cardigan\n",
    "13. 2 dolman sleeve sweater with fancy stitching\n",
    "14. 5 colorwork librarian cardigan\n",
    "15. 5 unstructured cardigan (straight from sides of neck to hem, no collar)\n",
    "16. 2 colorwork shawl collar cardigan\n",
    "17. 6 unstructured cardigan with fancy stitching\n",
    "18. 1 hooded cardigan\n",
    "19. 6 colorwork unstructured cardigan\n",
    "20. 1 colorwork hoodie\n",
    "21. 1 hoodie\n",
    "22. 2 v-neck cardigan with fancy stitching\n",
    "23. 10 v-neck sweater\n",
    "\n",
    "I'm going to set up lists for each of the 23 classes (permalink), then manually search for and add in other sweaters to fill out the lists - shooting for a minimum of 10 sweaters in each bin, which should add up to at least 30 pictures per bin."
   ]
  },
  {
   "cell_type": "code",
   "execution_count": 49,
   "metadata": {
    "collapsed": true,
    "jupyter": {
     "outputs_hidden": true
    }
   },
   "outputs": [
    {
     "data": {
      "text/plain": [
       "{'01': ['copenhagen-cardigan',\n",
       "  'dont-ask',\n",
       "  'felix-cardigan',\n",
       "  'a-warm-welcome',\n",
       "  'kukka-cardigan',\n",
       "  'carbeth-cardigan'],\n",
       " '02': ['harvest-10',\n",
       "  'april-cardigan-2',\n",
       "  'aimee-cardigan',\n",
       "  'balloon-cardigan'],\n",
       " '03': ['painting-bricks-sweater',\n",
       "  'sunbeam-sweater-2',\n",
       "  'breathing-space',\n",
       "  'dog-star',\n",
       "  'mountain-mist-2',\n",
       "  'suolaulu-sweater',\n",
       "  'snow-falling-on-cedars',\n",
       "  'arachne-6',\n",
       "  'darkwater',\n",
       "  'zweig',\n",
       "  'fern--feather',\n",
       "  'knitorious-rbg',\n",
       "  'forestland',\n",
       "  'soundtrack-2',\n",
       "  'marettimo',\n",
       "  'missoni-accomplished',\n",
       "  'aurealis-2',\n",
       "  'simple-something',\n",
       "  'panglossian-sweater',\n",
       "  'le-pouf-sweater',\n",
       "  'sunset-highway',\n",
       "  'guell',\n",
       "  'rug-11',\n",
       "  'graphic-elements',\n",
       "  'ingalls',\n",
       "  'yanis',\n",
       "  'ghost-horses',\n",
       "  'hinterland-5',\n",
       "  'altheda-2',\n",
       "  'meadow-moon',\n",
       "  'soldotna-crop',\n",
       "  'clapton',\n",
       "  'strange-brew',\n",
       "  'manou',\n",
       "  'koivua',\n",
       "  'sipila',\n",
       "  'jupiter-crop',\n",
       "  'goldwing-2',\n",
       "  'junction-3',\n",
       "  'mabrey-sweater',\n",
       "  'alaska-sweater',\n",
       "  'night-groove',\n",
       "  'pink-velvet',\n",
       "  'gardengate',\n",
       "  'sonrae',\n",
       "  'dreyma',\n",
       "  'arboreal',\n",
       "  'stonecrop-pullover',\n",
       "  'alden-2',\n",
       "  'super-simple-summer-sweater',\n",
       "  'treysta',\n",
       "  'chauncey-2',\n",
       "  'tiberius',\n",
       "  'teddy-bear-sweater-4',\n",
       "  'gracious-4',\n",
       "  'misurina',\n",
       "  'midcoast',\n",
       "  'vintage-83',\n",
       "  'ninilchik-swoncho',\n",
       "  'vellichor',\n",
       "  'newleaf',\n",
       "  'womens-knitted-sweater-2',\n",
       "  'nordiska',\n",
       "  'silverlining',\n",
       "  'bean--olive',\n",
       "  'puntal',\n",
       "  'birkin-3',\n",
       "  'lady-fingers-sweater',\n",
       "  'gianluca',\n",
       "  'the-throwover',\n",
       "  'so-faded',\n",
       "  'celosias',\n",
       "  'all-together-sweater',\n",
       "  'susurrus-3',\n",
       "  'tecumseh-2',\n",
       "  'stripes-32',\n",
       "  'shifty-2',\n",
       "  'solvi',\n",
       "  'vega-8',\n",
       "  'retrograde-4',\n",
       "  'ravello',\n",
       "  'so-faded-pint-sized',\n",
       "  'vintersol',\n",
       "  'telja',\n",
       "  'guthrie',\n",
       "  'lunenburg-pullover',\n",
       "  'bromelia-sweater',\n",
       "  'brightfeather',\n",
       "  'riddari',\n",
       "  'high-lonesome',\n",
       "  'humulus-2'],\n",
       " '04': ['navelli', 'lillet', 'aldous-2'],\n",
       " '05': ['foxtrot-cardigan',\n",
       "  'ankers-jacket',\n",
       "  'the-throwback',\n",
       "  'magnolia-chunky-cardigan',\n",
       "  'jaycee',\n",
       "  'margot-cardigan-2',\n",
       "  'elton-3',\n",
       "  'sunday-cardigan---mohair-edition',\n",
       "  'sunday-cardigan-4',\n",
       "  'winterfell-cardigan',\n",
       "  'lys-7',\n",
       "  'beekeeper-cardigan',\n",
       "  'norwegian-fir-top-down-cardigan',\n",
       "  'sunnyside'],\n",
       " '06': ['changing-paths',\n",
       "  'modern-vintage-sweater',\n",
       "  'purl-strings-2',\n",
       "  'love-note',\n",
       "  'tilted-tunic',\n",
       "  'the-purl-code',\n",
       "  'evergreen-cardigan-2',\n",
       "  'rituals',\n",
       "  'the-weekender-light',\n",
       "  'erell-jumper',\n",
       "  'glenmore',\n",
       "  'palm-canyon-video-sweater-class',\n",
       "  'carbeth',\n",
       "  'flax',\n",
       "  'wool--honey',\n",
       "  'september-sweater-2',\n",
       "  'elorie',\n",
       "  'ooh-la-la-4',\n",
       "  'calliope-13',\n",
       "  'cedar-pullover',\n",
       "  'sunday-sweater-7',\n",
       "  'ankers-sweater',\n",
       "  'flax-light',\n",
       "  'mycroft',\n",
       "  'the-weekender-5',\n",
       "  'whitmoor-sweater',\n",
       "  'derecho-2',\n",
       "  'lille-dahlia-solo',\n",
       "  'sayuri-sweater-2',\n",
       "  'yume',\n",
       "  'ankers-sweater---my-size',\n",
       "  'french-macaroon-2',\n",
       "  'magnolia-26',\n",
       "  'fonda',\n",
       "  'spector-2',\n",
       "  'glenbarrow',\n",
       "  'whitehorse-2',\n",
       "  'sorrel-15',\n",
       "  'sawyer-7',\n",
       "  'forager-4',\n",
       "  'tsubaki-pullover',\n",
       "  'tornado-2',\n",
       "  'eila-3',\n",
       "  'easy-eyelet-yoke-sweater',\n",
       "  'poet'],\n",
       " '07': ['terrazzo-sweater',\n",
       "  'the-classic-2',\n",
       "  'metropolis-3',\n",
       "  'novice-sweater',\n",
       "  'balloon-sweater-4',\n",
       "  'louisiana-sweater',\n",
       "  'strathcona-sweater'],\n",
       " '08': ['my-boy-lollipop',\n",
       "  'stockholm-sweater-2',\n",
       "  'city-limits-2',\n",
       "  'autumn-league-pullover',\n",
       "  'no-frills-sweater',\n",
       "  'kaleidoscope-sweater-3',\n",
       "  'party-top',\n",
       "  'doocot',\n",
       "  'vanilla-sweater-2',\n",
       "  'sunshine-coast',\n",
       "  'the-easy-bulky-one',\n",
       "  'puerperium-cardigan',\n",
       "  'cozy-classic-light',\n",
       "  'rift-7',\n",
       "  'trescao-jumper',\n",
       "  'nuuk-3',\n",
       "  'column-3',\n",
       "  'felix-pullover',\n",
       "  'nurtured',\n",
       "  'homebody',\n",
       "  'seven-sisters-top',\n",
       "  'cozy-classic-raglan'],\n",
       " '09': ['baby-sophisticate-2'],\n",
       " '10': ['beyond-the-dunes',\n",
       "  'boxy',\n",
       "  'paloma-15',\n",
       "  'turtle-dove-ii',\n",
       "  'diaphanous-raglan',\n",
       "  'cambito',\n",
       "  'turtle-dove-3'],\n",
       " '11': ['elevenses',\n",
       "  'colour-block-patchwork-cardigan',\n",
       "  'campside-cardi',\n",
       "  'great-love',\n",
       "  'main-squeeze-cardigan',\n",
       "  'big-love-5',\n",
       "  'cabin-life-cardigan',\n",
       "  'ginny'],\n",
       " '12': ['comfort-fade-cardi'],\n",
       " '13': ['ranunculus-3', 'deschain'],\n",
       " '14': ['mariechen',\n",
       "  'mandelbrot-2',\n",
       "  'floozy-2',\n",
       "  'sommarkoftan-2020--the-summer-cardigan-2020',\n",
       "  'sorbet-cardigan'],\n",
       " '15': ['no-frills-cardigan',\n",
       "  'girlfriends-cardigan-anke',\n",
       "  'newborn-vertebrae',\n",
       "  'gloam',\n",
       "  'madelyn-cardigan'],\n",
       " '16': ['gramps', 'spark-5'],\n",
       " '17': ['reagan',\n",
       "  'hitofude-cardigan',\n",
       "  'like-a-cloud',\n",
       "  'little-love-3',\n",
       "  'nigella-8',\n",
       "  'womens-cabled-cardigan'],\n",
       " '18': ['hooded-baby-cardigan-5'],\n",
       " '19': ['rose-74',\n",
       "  'simple-hug-cardi',\n",
       "  'pengweeno',\n",
       "  'le-pouf-2',\n",
       "  'letho',\n",
       "  'penguono'],\n",
       " '20': ['mini-unbearable-hoodie'],\n",
       " '21': ['november20'],\n",
       " '22': ['rosa-cardigan-5', 'rosa-little'],\n",
       " '23': ['understated-2',\n",
       "  'niamh-11',\n",
       "  'sheer-v-sweater',\n",
       "  'very-v-neck-raglan',\n",
       "  'cumulus-blouse',\n",
       "  'stockholm-slipover-v-neck',\n",
       "  'ursa-3',\n",
       "  'ursina',\n",
       "  'the-v-back-tee',\n",
       "  'vneck-boxy']}"
      ]
     },
     "execution_count": 49,
     "metadata": {},
     "output_type": "execute_result"
    }
   ],
   "source": [
    "directory = 'img/'\n",
    "type_dict = {}\n",
    "for i in range(1, 24):\n",
    "    type_dict[str(i).zfill(2)] = []\n",
    "permalink = re.compile(r'(?<=\\d\\d)[-A-z\\d]+(?=_)')\n",
    "for entry in os.scandir(directory):\n",
    "    if entry.path.endswith('.jpg') and entry.is_file():\n",
    "        code = entry.path[4:6]\n",
    "        type_dict[code] += [str(entry.path)[6:-8]]\n",
    "type_dict"
   ]
  },
  {
   "cell_type": "code",
   "execution_count": 51,
   "metadata": {},
   "outputs": [
    {
     "data": {
      "text/plain": [
       "['copenhagen-cardigan',\n",
       " 'dont-ask',\n",
       " 'felix-cardigan',\n",
       " 'a-warm-welcome',\n",
       " 'kukka-cardigan',\n",
       " 'carbeth-cardigan']"
      ]
     },
     "execution_count": 51,
     "metadata": {},
     "output_type": "execute_result"
    }
   ],
   "source": [
    "type_dict['01']"
   ]
  },
  {
   "cell_type": "code",
   "execution_count": 52,
   "metadata": {},
   "outputs": [],
   "source": [
    "type_dict['01'] += ['ramona-cardigan', 'dexter-3', 'marum-knitted-bomber', 'kimes', \n",
    "                    'quintessential-cardigan-2', 'vanilla-baby', \n",
    "                    'plain-and-simple-baby-cardigan', 'order-of-the-garter', \n",
    "                   '-9725-neck-down-cardigan-for-women', 'babys-raglan-sweater-no-seams', \n",
    "                   'ivy-30', '-221-summer-cardigan', 'kitten-4', 'garter-yoke-baby-cardi']"
   ]
  },
  {
   "cell_type": "code",
   "execution_count": 53,
   "metadata": {},
   "outputs": [
    {
     "data": {
      "text/plain": [
       "['harvest-10', 'april-cardigan-2', 'aimee-cardigan', 'balloon-cardigan']"
      ]
     },
     "execution_count": 53,
     "metadata": {},
     "output_type": "execute_result"
    }
   ],
   "source": [
    "type_dict['02']"
   ]
  },
  {
   "cell_type": "code",
   "execution_count": 54,
   "metadata": {},
   "outputs": [],
   "source": [
    "type_dict['02'] += ['honey-bop', 'shapely-boyfriend', 'foam-3', 'longfellow-2', \n",
    "                   'magnolia-cardigan-3', 'home-base', 'go-to-cardigan', \n",
    "                   'fundamental-top-down-mens-cardigan', 'walk-the-line-3', \n",
    "                   '16-v-neck-cardigan']"
   ]
  },
  {
   "cell_type": "code",
   "execution_count": 56,
   "metadata": {},
   "outputs": [
    {
     "data": {
      "text/plain": [
       "['navelli', 'lillet', 'aldous-2']"
      ]
     },
     "execution_count": 56,
     "metadata": {},
     "output_type": "execute_result"
    }
   ],
   "source": [
    "type_dict['04']"
   ]
  },
  {
   "cell_type": "code",
   "execution_count": 57,
   "metadata": {},
   "outputs": [],
   "source": [
    "type_dict['04'] += ['sunshine-coast', 'the-easy-one', 'pebble-tunic-2', 'amory-2', \n",
    "                   'seacoast', 'simple-tee-2', 'hayward', 'ridgecrest-pullover', \n",
    "                   'davis-2']"
   ]
  },
  {
   "cell_type": "code",
   "execution_count": 58,
   "metadata": {},
   "outputs": [
    {
     "data": {
      "text/plain": [
       "['terrazzo-sweater',\n",
       " 'the-classic-2',\n",
       " 'metropolis-3',\n",
       " 'novice-sweater',\n",
       " 'balloon-sweater-4',\n",
       " 'louisiana-sweater',\n",
       " 'strathcona-sweater']"
      ]
     },
     "execution_count": 58,
     "metadata": {},
     "output_type": "execute_result"
    }
   ],
   "source": [
    "type_dict['07']"
   ]
  },
  {
   "cell_type": "code",
   "execution_count": 59,
   "metadata": {},
   "outputs": [],
   "source": [
    "type_dict['07'] += ['childhood-2', 'big-kids-bulky-mock-turtleneck', 'opuntia-2', \n",
    "                   'raspberry-and-cream', 'gertrude-8', 'nske', 'rainier', \n",
    "                   'boundary-pullover', 'refine', 'janet-leigh']"
   ]
  },
  {
   "cell_type": "code",
   "execution_count": 60,
   "metadata": {},
   "outputs": [
    {
     "data": {
      "text/plain": [
       "['baby-sophisticate-2']"
      ]
     },
     "execution_count": 60,
     "metadata": {},
     "output_type": "execute_result"
    }
   ],
   "source": [
    "type_dict['09']"
   ]
  },
  {
   "cell_type": "code",
   "execution_count": 61,
   "metadata": {},
   "outputs": [],
   "source": [
    "type_dict['09'] += ['georgetown', 'tamarack-for-him', 'soft-flow', 'ponti', 'iced', \n",
    "                   'sunday-drive-2', 'sigrid-11', 'mille-for-men', 'shruggigan', \n",
    "                   'diary', 'stretta', 'shawl-collar-cardigan-21', \n",
    "                   'running-water', 'maestro', 'smokin', 'invert-cardigan']"
   ]
  },
  {
   "cell_type": "code",
   "execution_count": 62,
   "metadata": {},
   "outputs": [
    {
     "data": {
      "text/plain": [
       "['beyond-the-dunes',\n",
       " 'boxy',\n",
       " 'paloma-15',\n",
       " 'turtle-dove-ii',\n",
       " 'diaphanous-raglan',\n",
       " 'cambito',\n",
       " 'turtle-dove-3']"
      ]
     },
     "execution_count": 62,
     "metadata": {},
     "output_type": "execute_result"
    }
   ],
   "source": [
    "type_dict['10']"
   ]
  },
  {
   "cell_type": "code",
   "execution_count": 66,
   "metadata": {},
   "outputs": [],
   "source": [
    "type_dict['10'] = ['beyond-the-dunes', 'boxy', 'paloma-15', 'turtle-dove-ii', \n",
    "                   'diaphanous-raglan', 'cambito', 'turtle-dove-3', 'chaika', \n",
    "                   'auer-3', 'freewheeler', 'bibbe', 'soren-4', \n",
    "                   'daft-desire', 'bianka', 'mio-5', 'soothe-2', 'vivian-sweater-2', \n",
    "                   'flugel', 'mila-7', 'benedicte-soft-dolman-sleeve-sweater']"
   ]
  },
  {
   "cell_type": "code",
   "execution_count": 67,
   "metadata": {},
   "outputs": [],
   "source": [
    "type_dict['11'] += ['cabin-life-cardigan', 'bees-knees-6', 'jones-3', 'ausable-3', \n",
    "                   'noreaster', 'snoqualmie', 'little-wave', 'dark-and-stormy', \n",
    "                   'maleme-cardigan', 'glen-shiel-cardigan', 'my-everything', \n",
    "                   'migration-7', 'roosevelt-cardigan', 'chocolate-stout', \n",
    "                   'radmere', 'augusta-8', 'kathe-cardigan', 'berlin-soft', \n",
    "                   'campfire-cardigan-2', 'cold-spring-2']"
   ]
  },
  {
   "cell_type": "code",
   "execution_count": 70,
   "metadata": {},
   "outputs": [
    {
     "data": {
      "text/plain": [
       "['comfort-fade-cardi']"
      ]
     },
     "execution_count": 70,
     "metadata": {},
     "output_type": "execute_result"
    }
   ],
   "source": [
    "type_dict['12']"
   ]
  },
  {
   "cell_type": "code",
   "execution_count": 71,
   "metadata": {},
   "outputs": [],
   "source": [
    "type_dict['12'] += ['spark-5', 'forest-park-cardigan', 'pascal-5', \n",
    "                   'it-takes-a-guild-cardigan-tutorial', 'eaves-2', \n",
    "                   'forest-park-junior', 'fireworks-cardi' 'cozy-thoughts-cardi', \n",
    "                   'sloane-square-2', 'paintbox-cardigan-2', 'writers-block-2', \n",
    "                   'arrowhead-cardigan-2', 'betania-cardigan', 'takoma']"
   ]
  },
  {
   "cell_type": "code",
   "execution_count": 72,
   "metadata": {},
   "outputs": [
    {
     "data": {
      "text/plain": [
       "['ranunculus-3', 'deschain']"
      ]
     },
     "execution_count": 72,
     "metadata": {},
     "output_type": "execute_result"
    }
   ],
   "source": [
    "type_dict['13']"
   ]
  },
  {
   "cell_type": "code",
   "execution_count": 73,
   "metadata": {},
   "outputs": [],
   "source": [
    "type_dict['13'] += ['lorelei-13', 'nicasio-2', 'sophie-pullover', 'celtic-hill', \n",
    "                   'poet', 'olive-leaf-pullover', 'arkenstone-2', 'sailing-sweater', \n",
    "                   'almina-sweater', 'kareno---', 'ondawa', 'celosia-pullover', \n",
    "                   'victoria-44', 'yokester-2', 'jane-morris', 'spellbound-10', \n",
    "                   '197-16-agnes-sweater', 'railfence', 'aida-pullover', \n",
    "                   'high-notes', 'corinne-8' '12-pull-jacinthe', 'aarni' 'carra']"
   ]
  },
  {
   "cell_type": "code",
   "execution_count": 74,
   "metadata": {},
   "outputs": [
    {
     "data": {
      "text/plain": [
       "['mariechen',\n",
       " 'mandelbrot-2',\n",
       " 'floozy-2',\n",
       " 'sommarkoftan-2020--the-summer-cardigan-2020',\n",
       " 'sorbet-cardigan']"
      ]
     },
     "execution_count": 74,
     "metadata": {},
     "output_type": "execute_result"
    }
   ],
   "source": [
    "type_dict['14']"
   ]
  },
  {
   "cell_type": "code",
   "execution_count": 75,
   "metadata": {},
   "outputs": [],
   "source": [
    "type_dict['14'] += ['the-throwback', 'vega-8', 'budding', 'foxthoughts-cardigan', \n",
    "                   'flower-buds-cardigan', 'fjell-cardigan', 'marit-4', \n",
    "                   'sjon---the-sea', 'nordbakkan', 'tonnach', \n",
    "                   'hillary-fluff-and-the-magic-fungi', 'vesle-vinterfjell-cardigan', \n",
    "                   'skumring---nightfall', 'the-sinister-kittigan', 'sol-inca', \n",
    "                   'hawthorn-6', 'hela-short-cardigan-with-zip', \n",
    "                   'baby-fair-isle-cardigan-3', 'saffran-cardigan', \n",
    "                    'a-good-vintage-cardigan', 'little-coffee-bean-bulky', 'nani-4', \n",
    "                   'joining-bees-and-things', 'iunn', 'revejakken-1701-05', \n",
    "                   'glaswegian-cardigan', 'chestnut-9', 'cloud-nine-cardigan', \n",
    "                   'crocheted-sinister-catdigan', 'ella-funt', \n",
    "                    'playful-stripes-cardigan', 'dagna-cardigan', 'toorie-2', \n",
    "                   'picpus']"
   ]
  },
  {
   "cell_type": "code",
   "execution_count": 77,
   "metadata": {},
   "outputs": [
    {
     "data": {
      "text/plain": [
       "['no-frills-cardigan',\n",
       " 'girlfriends-cardigan-anke',\n",
       " 'newborn-vertebrae',\n",
       " 'gloam',\n",
       " 'madelyn-cardigan']"
      ]
     },
     "execution_count": 77,
     "metadata": {},
     "output_type": "execute_result"
    }
   ],
   "source": [
    "type_dict['15']"
   ]
  },
  {
   "cell_type": "code",
   "execution_count": 78,
   "metadata": {},
   "outputs": [],
   "source": [
    "type_dict['15'] += ['girlfriends-cardigan-anke', 'classy-cardi-3', 'growing', \n",
    "                   'the-downtown-cardigan', 'fine-sand', 'velvet-cardi', \n",
    "                   'summer-longing', 'rhinebeck-cardigan-in-dream', 'whippet-long', \n",
    "                   'waits', 'adelheid-cardigan', 'rosemont-cardigan', \n",
    "                   'ribtastic-cardi', 'stiina-cardigan', \n",
    "                   'breckenridge-topper-cardigan', 'tap-cardigan']"
   ]
  },
  {
   "cell_type": "code",
   "execution_count": 81,
   "metadata": {},
   "outputs": [],
   "source": [
    "type_dict['12'] += type_dict['16']"
   ]
  },
  {
   "cell_type": "code",
   "execution_count": 82,
   "metadata": {},
   "outputs": [
    {
     "data": {
      "text/plain": [
       "['reagan',\n",
       " 'hitofude-cardigan',\n",
       " 'like-a-cloud',\n",
       " 'little-love-3',\n",
       " 'nigella-8',\n",
       " 'womens-cabled-cardigan']"
      ]
     },
     "execution_count": 82,
     "metadata": {},
     "output_type": "execute_result"
    }
   ],
   "source": [
    "del type_dict['16']\n",
    "type_dict['17']"
   ]
  },
  {
   "cell_type": "code",
   "execution_count": 83,
   "metadata": {},
   "outputs": [],
   "source": [
    "type_dict['17'] += ['like-a-cloud', 'great-love', 'long-love', 'huia', \n",
    "                    'hudson-valley-cardi-video-sweater-class', 'soyokaze-2', \n",
    "                    'the-dwell-sweater', 'cliffside-cardigan', 'kapsel', \n",
    "                    'gin-and-juice', 'the-scotlander', 'ebbetts', 'greystone-4', \n",
    "                    'savage-heart-cardigan', '123-lucky-cardi', 'boho-texture-cardi', \n",
    "                    'campsite-waffle-cardigan', '405-lex', 'delaney-cardigan', \n",
    "                    'ullock', 'mams-cardigan', 'cafe-au-lait-cardigan', 'zopflicious']\n"
   ]
  },
  {
   "cell_type": "code",
   "execution_count": 84,
   "metadata": {},
   "outputs": [
    {
     "data": {
      "text/plain": [
       "['hooded-baby-cardigan-5']"
      ]
     },
     "execution_count": 84,
     "metadata": {},
     "output_type": "execute_result"
    }
   ],
   "source": [
    "type_dict['18']"
   ]
  },
  {
   "cell_type": "code",
   "execution_count": 85,
   "metadata": {},
   "outputs": [],
   "source": [
    "type_dict['18'] += ['artichoke-french-hoodie', 'cropped-hoodie-2', 'tuk', \n",
    "                   'everything-nice-hoodie', 'hood-on-the-moon', 'kol', \n",
    "                   'dryad-10', 'twilight-new-moon-bella-hooded-cardigan', \n",
    "                   'well-water-hoodie', 'kem', 'harumachi', 'billie-5', \n",
    "                   'hydes-hooded-sweater', 'sugarcoated', 'gilgalad', \n",
    "                   'the-albatross-hooded-cardigan', 'hoodedcardielly', \n",
    "                   'jb601-cardigan-with-hood', 'autumn-hooded-cardigan', \n",
    "                   'starla-cardi']"
   ]
  },
  {
   "cell_type": "code",
   "execution_count": 86,
   "metadata": {},
   "outputs": [
    {
     "data": {
      "text/plain": [
       "['rose-74', 'simple-hug-cardi', 'pengweeno', 'le-pouf-2', 'letho', 'penguono']"
      ]
     },
     "execution_count": 86,
     "metadata": {},
     "output_type": "execute_result"
    }
   ],
   "source": [
    "type_dict['19']"
   ]
  },
  {
   "cell_type": "code",
   "execution_count": 87,
   "metadata": {},
   "outputs": [],
   "source": [
    "type_dict['19'] += ['plaid-party-cardi', 'boho-style-mosaic-cardigan', \n",
    "                    'zola-jacket', 'eva-cardigan', 'hands', 'big-flower-4', \n",
    "                   'nabeela', 'pia-10', 'hearts-balloon-sleeve-cardigan', \n",
    "                   'leysingar', 'rattigan', 'sand-and-sunsets', \n",
    "                    'desert-nights-cardigan', 'lazulite', 'creekside-3', \n",
    "                   'wendela', 'unchained-2', 'hartwick', 'wild-autumn-cardigan', \n",
    "                   'bluesand-cardigan', 'flipside-cardigan', 'made-my-day-cardigan', \n",
    "                   'emilys-dream', 'windward-5', 'mercantile-cardigan', \n",
    "                   '07-gradient-cardigan', '03-open-cardigan']"
   ]
  },
  {
   "cell_type": "code",
   "execution_count": 88,
   "metadata": {},
   "outputs": [
    {
     "data": {
      "text/plain": [
       "['mini-unbearable-hoodie']"
      ]
     },
     "execution_count": 88,
     "metadata": {},
     "output_type": "execute_result"
    }
   ],
   "source": [
    "type_dict['20']"
   ]
  },
  {
   "cell_type": "code",
   "execution_count": 89,
   "metadata": {},
   "outputs": [],
   "source": [
    "type_dict['20'] += ['jills-sweater-and-hood', 'mens--boys-hoodie-sweater', \n",
    "                   '63-16-a---sweater-with-hood', 'teriffic-toddler-hoodie-ii', \n",
    "                   'striped-lifestyle-sweater-with-hood', \n",
    "                    'kcb001-classic-beginnings-seamless-raglan-pullover', \n",
    "                   'kooky-critter-hoodie', 'hooded-striped-top', \n",
    "                   'winter-hoodie', 'magnus-4', 'cozy-campfire-striped-hoodie', \n",
    "                   'kangaroo-hoodie-4', 'marv', 'the-mini-montrealer', \n",
    "                   'the-montrealer', 'snowy-owl-hoodie', 'a-wolfs-moon', \n",
    "                   't-rex-hoodie', '-41-luisa', 'mouse-hoodie', 'whale-hoodie', \n",
    "                   '13---pull-a-capuche', 'hoodie-smile', '172---pull-a-capuche', \n",
    "                   'pullover-with-star', 'blue-child-s-sweater-with-roses', \n",
    "                   '83-paakallohuppari', 'alston-flower-show-hoodie', \n",
    "                   'triceratops-dinosaur-hoodie', 'oh-my-bear', \n",
    "                   'velociraptor-dinosaur-hoodie', 'snowy-owl-hoodie', \n",
    "                   'rock-star-guitar-hoodie']"
   ]
  },
  {
   "cell_type": "code",
   "execution_count": 90,
   "metadata": {},
   "outputs": [
    {
     "data": {
      "text/plain": [
       "['november20']"
      ]
     },
     "execution_count": 90,
     "metadata": {},
     "output_type": "execute_result"
    }
   ],
   "source": [
    "type_dict['21']"
   ]
  },
  {
   "cell_type": "code",
   "execution_count": 91,
   "metadata": {},
   "outputs": [],
   "source": [
    "type_dict['21'] += ['-211-baby-tunic', 'a-wonderful-wallaby-for-grown-ups---2016', \n",
    "                   'tokyo-hoodie', 'channelside-hoodie-3', 'happy-at-home-hoodie', \n",
    "                   'clubhouse-raglan-hoodie', 'milsom', 'windbreak', 'atherton-2', \n",
    "                   'east-neuk-hoodie', 'p225-babys-back-zip-hooded-sweater', \n",
    "                   'basic-toddler-hoodie', '109-1-campfire', \n",
    "                   'garter-stitch-hooded-sweater-shirt', 'pebble-beach', \n",
    "                   '32-hooded-pullover', 'sweater-cardigan-and-waistcoat-vest-3996', \n",
    "                   'hooded-sweater', 'brilliant-bubble', '05-pullover-hoodie', \n",
    "                   'hayley-hoodie', 'pull-a-capuche-femme-438-t5-101', \n",
    "                   'hooded-sweatshirt-2', '109-9-river-maid', 'hooded-sweater-21']"
   ]
  },
  {
   "cell_type": "code",
   "execution_count": 92,
   "metadata": {},
   "outputs": [
    {
     "data": {
      "text/plain": [
       "['rosa-cardigan-5', 'rosa-little']"
      ]
     },
     "execution_count": 92,
     "metadata": {},
     "output_type": "execute_result"
    }
   ],
   "source": [
    "type_dict['22']"
   ]
  },
  {
   "cell_type": "code",
   "execution_count": 93,
   "metadata": {},
   "outputs": [],
   "source": [
    "type_dict['22'] += ['must-have-cardigan', 'jack-rose', 'willa-12', 'anwyn-2', \n",
    "                   'vianne-2', '17-topiary', 'gocce-2', 'farrah-fowler', \n",
    "                   'spring-quartet', 'geiger', 'dolin', 'gaspra', 'decq', 'irpa', \n",
    "                   'boston-cardigan-2', '283-maelynn-cardigan', 'baby-groots-cardigan', \n",
    "                   'glenfiddich', 'candelaria', 'boston-cardi-kids', 'marion-6', \n",
    "                   'lisboa-soft', 'rhythm-4', '09-chevron-cardigan', 'clematite-2', \n",
    "                   'fidelia-4', 'bradshaw-3', 'celyn', 'mary-mead', \n",
    "                   'birch-cardigan-2', 'augusta-cardigan', 'alicia-19', \n",
    "                   'homelike-cardigan', 'stickad-herrkofta', 'dock-and-cabin', \n",
    "                   'woodburne-cardigan', 'shakespeare-cardigan', 'blumchen', \n",
    "                   'vignette', 'leaf-and-picot-cardigan', 'dads-cardigan', \n",
    "                   'summers-end', 'footlights-cardigan', 'pto-01801-lang-yarns-kylie']"
   ]
  },
  {
   "cell_type": "code",
   "execution_count": 94,
   "metadata": {},
   "outputs": [
    {
     "data": {
      "text/plain": [
       "['understated-2',\n",
       " 'niamh-11',\n",
       " 'sheer-v-sweater',\n",
       " 'very-v-neck-raglan',\n",
       " 'cumulus-blouse',\n",
       " 'stockholm-slipover-v-neck',\n",
       " 'ursa-3',\n",
       " 'ursina',\n",
       " 'the-v-back-tee',\n",
       " 'vneck-boxy']"
      ]
     },
     "execution_count": 94,
     "metadata": {},
     "output_type": "execute_result"
    }
   ],
   "source": [
    "type_dict['23']"
   ]
  },
  {
   "cell_type": "code",
   "execution_count": 95,
   "metadata": {},
   "outputs": [],
   "source": [
    "type_dict['23'] += ['hvide', 'edgartown-light', 'weir-2', 'anyday-sweater', \n",
    "                   'dillon-2', 'westbound', 'ursa-minor-4', 'rock-it-tee-dk', \n",
    "                   'simple-summer-tweed-top-down-v-neck', 'bairbre-2']"
   ]
  },
  {
   "cell_type": "code",
   "execution_count": 97,
   "metadata": {},
   "outputs": [
    {
     "ename": "AttributeError",
     "evalue": "'NoneType' object has no attribute 'find_all'",
     "output_type": "error",
     "traceback": [
      "\u001b[0;31m---------------------------------------------------------------------------\u001b[0m",
      "\u001b[0;31mAttributeError\u001b[0m                            Traceback (most recent call last)",
      "\u001b[0;32m<ipython-input-97-170c3ad58d59>\u001b[0m in \u001b[0;36m<module>\u001b[0;34m\u001b[0m\n\u001b[1;32m      8\u001b[0m         \u001b[0mresult\u001b[0m \u001b[0;34m=\u001b[0m \u001b[0mrequests\u001b[0m\u001b[0;34m.\u001b[0m\u001b[0mget\u001b[0m\u001b[0;34m(\u001b[0m\u001b[0mlink\u001b[0m\u001b[0;34m,\u001b[0m \u001b[0muser_agent\u001b[0m\u001b[0;34m)\u001b[0m\u001b[0;34m\u001b[0m\u001b[0;34m\u001b[0m\u001b[0m\n\u001b[1;32m      9\u001b[0m         \u001b[0msoup\u001b[0m \u001b[0;34m=\u001b[0m \u001b[0mBeautifulSoup\u001b[0m\u001b[0;34m(\u001b[0m\u001b[0mresult\u001b[0m\u001b[0;34m.\u001b[0m\u001b[0mcontent\u001b[0m\u001b[0;34m,\u001b[0m \u001b[0;34m'html.parser'\u001b[0m\u001b[0;34m)\u001b[0m\u001b[0;34m\u001b[0m\u001b[0;34m\u001b[0m\u001b[0m\n\u001b[0;32m---> 10\u001b[0;31m         \u001b[0mimages\u001b[0m \u001b[0;34m=\u001b[0m \u001b[0;34m[\u001b[0m\u001b[0mimage\u001b[0m\u001b[0;34m[\u001b[0m\u001b[0;34m'src'\u001b[0m\u001b[0;34m]\u001b[0m \u001b[0;32mfor\u001b[0m \u001b[0mimage\u001b[0m \u001b[0;32min\u001b[0m \u001b[0msoup\u001b[0m\u001b[0;34m.\u001b[0m\u001b[0mfind\u001b[0m\u001b[0;34m(\u001b[0m\u001b[0;34m'div'\u001b[0m\u001b[0;34m,\u001b[0m \u001b[0mclass_\u001b[0m \u001b[0;34m=\u001b[0m \u001b[0;34m'photo_gallery_container'\u001b[0m\u001b[0;34m)\u001b[0m\u001b[0;34m.\u001b[0m\u001b[0mfind_all\u001b[0m\u001b[0;34m(\u001b[0m\u001b[0;34m'img'\u001b[0m\u001b[0;34m)\u001b[0m\u001b[0;34m]\u001b[0m\u001b[0;34m\u001b[0m\u001b[0;34m\u001b[0m\u001b[0m\n\u001b[0m\u001b[1;32m     11\u001b[0m         \u001b[0mcount\u001b[0m \u001b[0;34m=\u001b[0m \u001b[0;36m2\u001b[0m\u001b[0;34m\u001b[0m\u001b[0;34m\u001b[0m\u001b[0m\n\u001b[1;32m     12\u001b[0m         \u001b[0;32mfor\u001b[0m \u001b[0mimage\u001b[0m \u001b[0;32min\u001b[0m \u001b[0mimages\u001b[0m\u001b[0;34m:\u001b[0m\u001b[0;34m\u001b[0m\u001b[0;34m\u001b[0m\u001b[0m\n",
      "\u001b[0;31mAttributeError\u001b[0m: 'NoneType' object has no attribute 'find_all'"
     ]
    }
   ],
   "source": [
    "ua = UserAgent()\n",
    "import random\n",
    "\n",
    "for key in type_dict.keys():\n",
    "    for pattern in type_dict[key]:\n",
    "        link = 'https://www.ravelry.com/patterns/library/' + pattern\n",
    "        user_agent = {'User-agent': ua.random}\n",
    "        result = requests.get(link, user_agent)\n",
    "        soup = BeautifulSoup(result.content, 'html.parser')\n",
    "        images = [image['src'] for image in soup.find('div', class_ = 'photo_gallery_container').find_all('img')]\n",
    "        count = 2\n",
    "        for image in images:\n",
    "            img_name = 'img/' + key + pattern + '_' + str(count).zfill(3) + '.jpg'\n",
    "            try:\n",
    "                urllib.request.urlretrieve(image, img_name)\n",
    "            except:\n",
    "                pass\n",
    "            count += 1\n",
    "            time.sleep(1.5*random.random())\n",
    "        time.sleep(5*random.random())\n",
    "            \n",
    "            \n",
    "            "
   ]
  },
  {
   "cell_type": "code",
   "execution_count": 102,
   "metadata": {},
   "outputs": [
    {
     "data": {
      "text/plain": [
       "['arrowhead-cardigan-2',\n",
       " 'betania-cardigan',\n",
       " 'comfort-fade-cardi',\n",
       " 'eaves-2',\n",
       " 'fireworks-cardicozy-thoughts-cardi',\n",
       " 'forest-park-cardigan',\n",
       " 'forest-park-junior',\n",
       " 'gramps',\n",
       " 'it-takes-a-guild-cardigan-tutorial',\n",
       " 'paintbox-cardigan-2',\n",
       " 'pascal-5',\n",
       " 'sloane-square-2',\n",
       " 'spark-5',\n",
       " 'spark-5',\n",
       " 'takoma',\n",
       " 'writers-block-2']"
      ]
     },
     "execution_count": 102,
     "metadata": {},
     "output_type": "execute_result"
    }
   ],
   "source": [
    "type_dict['12'].sort()\n",
    "type_dict['12']"
   ]
  },
  {
   "cell_type": "code",
   "execution_count": 104,
   "metadata": {},
   "outputs": [],
   "source": [
    "type_dict2 = {}\n",
    "type_dict2['12'] = ['arrowhead-cardigan-2', 'betania-cardigan', \n",
    "                    'fireworks-cardicozy-thoughts-cardi', 'gramps', \n",
    "                   'paintbox-cardigan-2', 'sloane-square-2', \n",
    "                   'takoma', 'writers-block-2']\n",
    "type_dict2['13'] = type_dict['13']\n",
    "type_dict2['14'] = type_dict['14']\n",
    "type_dict2['15'] = type_dict['15']\n",
    "type_dict2['17'] = type_dict['17']\n",
    "type_dict2['18'] = type_dict['18']\n",
    "type_dict2['19'] = type_dict['19']\n",
    "type_dict2['20'] = type_dict['20']\n",
    "type_dict2['21'] = type_dict['21']\n",
    "type_dict2['22'] = type_dict['22']\n",
    "type_dict2['23'] = type_dict['23']"
   ]
  },
  {
   "cell_type": "code",
   "execution_count": 105,
   "metadata": {},
   "outputs": [
    {
     "ename": "ConnectionError",
     "evalue": "HTTPSConnectionPool(host='www.ravelry.com', port=443): Max retries exceeded with url: /patterns/library/poet?User-agent=Opera%2F9.80+%28Macintosh%3B+Intel+Mac+OS+X+10.6.8%3B+U%3B+de%29+Presto%2F2.9.168+Version%2F11.52 (Caused by NewConnectionError('<urllib3.connection.HTTPSConnection object at 0x7fb9fa792c10>: Failed to establish a new connection: [Errno 8] nodename nor servname provided, or not known'))",
     "output_type": "error",
     "traceback": [
      "\u001b[0;31m---------------------------------------------------------------------------\u001b[0m",
      "\u001b[0;31mgaierror\u001b[0m                                  Traceback (most recent call last)",
      "\u001b[0;32m~/anaconda3/lib/python3.7/site-packages/urllib3/connection.py\u001b[0m in \u001b[0;36m_new_conn\u001b[0;34m(self)\u001b[0m\n\u001b[1;32m    159\u001b[0m             conn = connection.create_connection(\n\u001b[0;32m--> 160\u001b[0;31m                 \u001b[0;34m(\u001b[0m\u001b[0mself\u001b[0m\u001b[0;34m.\u001b[0m\u001b[0m_dns_host\u001b[0m\u001b[0;34m,\u001b[0m \u001b[0mself\u001b[0m\u001b[0;34m.\u001b[0m\u001b[0mport\u001b[0m\u001b[0;34m)\u001b[0m\u001b[0;34m,\u001b[0m \u001b[0mself\u001b[0m\u001b[0;34m.\u001b[0m\u001b[0mtimeout\u001b[0m\u001b[0;34m,\u001b[0m \u001b[0;34m**\u001b[0m\u001b[0mextra_kw\u001b[0m\u001b[0;34m\u001b[0m\u001b[0;34m\u001b[0m\u001b[0m\n\u001b[0m\u001b[1;32m    161\u001b[0m             )\n",
      "\u001b[0;32m~/anaconda3/lib/python3.7/site-packages/urllib3/util/connection.py\u001b[0m in \u001b[0;36mcreate_connection\u001b[0;34m(address, timeout, source_address, socket_options)\u001b[0m\n\u001b[1;32m     60\u001b[0m \u001b[0;34m\u001b[0m\u001b[0m\n\u001b[0;32m---> 61\u001b[0;31m     \u001b[0;32mfor\u001b[0m \u001b[0mres\u001b[0m \u001b[0;32min\u001b[0m \u001b[0msocket\u001b[0m\u001b[0;34m.\u001b[0m\u001b[0mgetaddrinfo\u001b[0m\u001b[0;34m(\u001b[0m\u001b[0mhost\u001b[0m\u001b[0;34m,\u001b[0m \u001b[0mport\u001b[0m\u001b[0;34m,\u001b[0m \u001b[0mfamily\u001b[0m\u001b[0;34m,\u001b[0m \u001b[0msocket\u001b[0m\u001b[0;34m.\u001b[0m\u001b[0mSOCK_STREAM\u001b[0m\u001b[0;34m)\u001b[0m\u001b[0;34m:\u001b[0m\u001b[0;34m\u001b[0m\u001b[0;34m\u001b[0m\u001b[0m\n\u001b[0m\u001b[1;32m     62\u001b[0m         \u001b[0maf\u001b[0m\u001b[0;34m,\u001b[0m \u001b[0msocktype\u001b[0m\u001b[0;34m,\u001b[0m \u001b[0mproto\u001b[0m\u001b[0;34m,\u001b[0m \u001b[0mcanonname\u001b[0m\u001b[0;34m,\u001b[0m \u001b[0msa\u001b[0m \u001b[0;34m=\u001b[0m \u001b[0mres\u001b[0m\u001b[0;34m\u001b[0m\u001b[0;34m\u001b[0m\u001b[0m\n",
      "\u001b[0;32m~/anaconda3/lib/python3.7/socket.py\u001b[0m in \u001b[0;36mgetaddrinfo\u001b[0;34m(host, port, family, type, proto, flags)\u001b[0m\n\u001b[1;32m    751\u001b[0m     \u001b[0maddrlist\u001b[0m \u001b[0;34m=\u001b[0m \u001b[0;34m[\u001b[0m\u001b[0;34m]\u001b[0m\u001b[0;34m\u001b[0m\u001b[0;34m\u001b[0m\u001b[0m\n\u001b[0;32m--> 752\u001b[0;31m     \u001b[0;32mfor\u001b[0m \u001b[0mres\u001b[0m \u001b[0;32min\u001b[0m \u001b[0m_socket\u001b[0m\u001b[0;34m.\u001b[0m\u001b[0mgetaddrinfo\u001b[0m\u001b[0;34m(\u001b[0m\u001b[0mhost\u001b[0m\u001b[0;34m,\u001b[0m \u001b[0mport\u001b[0m\u001b[0;34m,\u001b[0m \u001b[0mfamily\u001b[0m\u001b[0;34m,\u001b[0m \u001b[0mtype\u001b[0m\u001b[0;34m,\u001b[0m \u001b[0mproto\u001b[0m\u001b[0;34m,\u001b[0m \u001b[0mflags\u001b[0m\u001b[0;34m)\u001b[0m\u001b[0;34m:\u001b[0m\u001b[0;34m\u001b[0m\u001b[0;34m\u001b[0m\u001b[0m\n\u001b[0m\u001b[1;32m    753\u001b[0m         \u001b[0maf\u001b[0m\u001b[0;34m,\u001b[0m \u001b[0msocktype\u001b[0m\u001b[0;34m,\u001b[0m \u001b[0mproto\u001b[0m\u001b[0;34m,\u001b[0m \u001b[0mcanonname\u001b[0m\u001b[0;34m,\u001b[0m \u001b[0msa\u001b[0m \u001b[0;34m=\u001b[0m \u001b[0mres\u001b[0m\u001b[0;34m\u001b[0m\u001b[0;34m\u001b[0m\u001b[0m\n",
      "\u001b[0;31mgaierror\u001b[0m: [Errno 8] nodename nor servname provided, or not known",
      "\nDuring handling of the above exception, another exception occurred:\n",
      "\u001b[0;31mNewConnectionError\u001b[0m                        Traceback (most recent call last)",
      "\u001b[0;32m~/anaconda3/lib/python3.7/site-packages/urllib3/connectionpool.py\u001b[0m in \u001b[0;36murlopen\u001b[0;34m(self, method, url, body, headers, retries, redirect, assert_same_host, timeout, pool_timeout, release_conn, chunked, body_pos, **response_kw)\u001b[0m\n\u001b[1;32m    676\u001b[0m                 \u001b[0mheaders\u001b[0m\u001b[0;34m=\u001b[0m\u001b[0mheaders\u001b[0m\u001b[0;34m,\u001b[0m\u001b[0;34m\u001b[0m\u001b[0;34m\u001b[0m\u001b[0m\n\u001b[0;32m--> 677\u001b[0;31m                 \u001b[0mchunked\u001b[0m\u001b[0;34m=\u001b[0m\u001b[0mchunked\u001b[0m\u001b[0;34m,\u001b[0m\u001b[0;34m\u001b[0m\u001b[0;34m\u001b[0m\u001b[0m\n\u001b[0m\u001b[1;32m    678\u001b[0m             )\n",
      "\u001b[0;32m~/anaconda3/lib/python3.7/site-packages/urllib3/connectionpool.py\u001b[0m in \u001b[0;36m_make_request\u001b[0;34m(self, conn, method, url, timeout, chunked, **httplib_request_kw)\u001b[0m\n\u001b[1;32m    380\u001b[0m         \u001b[0;32mtry\u001b[0m\u001b[0;34m:\u001b[0m\u001b[0;34m\u001b[0m\u001b[0;34m\u001b[0m\u001b[0m\n\u001b[0;32m--> 381\u001b[0;31m             \u001b[0mself\u001b[0m\u001b[0;34m.\u001b[0m\u001b[0m_validate_conn\u001b[0m\u001b[0;34m(\u001b[0m\u001b[0mconn\u001b[0m\u001b[0;34m)\u001b[0m\u001b[0;34m\u001b[0m\u001b[0;34m\u001b[0m\u001b[0m\n\u001b[0m\u001b[1;32m    382\u001b[0m         \u001b[0;32mexcept\u001b[0m \u001b[0;34m(\u001b[0m\u001b[0mSocketTimeout\u001b[0m\u001b[0;34m,\u001b[0m \u001b[0mBaseSSLError\u001b[0m\u001b[0;34m)\u001b[0m \u001b[0;32mas\u001b[0m \u001b[0me\u001b[0m\u001b[0;34m:\u001b[0m\u001b[0;34m\u001b[0m\u001b[0;34m\u001b[0m\u001b[0m\n",
      "\u001b[0;32m~/anaconda3/lib/python3.7/site-packages/urllib3/connectionpool.py\u001b[0m in \u001b[0;36m_validate_conn\u001b[0;34m(self, conn)\u001b[0m\n\u001b[1;32m    977\u001b[0m         \u001b[0;32mif\u001b[0m \u001b[0;32mnot\u001b[0m \u001b[0mgetattr\u001b[0m\u001b[0;34m(\u001b[0m\u001b[0mconn\u001b[0m\u001b[0;34m,\u001b[0m \u001b[0;34m\"sock\"\u001b[0m\u001b[0;34m,\u001b[0m \u001b[0;32mNone\u001b[0m\u001b[0;34m)\u001b[0m\u001b[0;34m:\u001b[0m  \u001b[0;31m# AppEngine might not have  `.sock`\u001b[0m\u001b[0;34m\u001b[0m\u001b[0;34m\u001b[0m\u001b[0m\n\u001b[0;32m--> 978\u001b[0;31m             \u001b[0mconn\u001b[0m\u001b[0;34m.\u001b[0m\u001b[0mconnect\u001b[0m\u001b[0;34m(\u001b[0m\u001b[0;34m)\u001b[0m\u001b[0;34m\u001b[0m\u001b[0;34m\u001b[0m\u001b[0m\n\u001b[0m\u001b[1;32m    979\u001b[0m \u001b[0;34m\u001b[0m\u001b[0m\n",
      "\u001b[0;32m~/anaconda3/lib/python3.7/site-packages/urllib3/connection.py\u001b[0m in \u001b[0;36mconnect\u001b[0;34m(self)\u001b[0m\n\u001b[1;32m    308\u001b[0m         \u001b[0;31m# Add certificate verification\u001b[0m\u001b[0;34m\u001b[0m\u001b[0;34m\u001b[0m\u001b[0;34m\u001b[0m\u001b[0m\n\u001b[0;32m--> 309\u001b[0;31m         \u001b[0mconn\u001b[0m \u001b[0;34m=\u001b[0m \u001b[0mself\u001b[0m\u001b[0;34m.\u001b[0m\u001b[0m_new_conn\u001b[0m\u001b[0;34m(\u001b[0m\u001b[0;34m)\u001b[0m\u001b[0;34m\u001b[0m\u001b[0;34m\u001b[0m\u001b[0m\n\u001b[0m\u001b[1;32m    310\u001b[0m         \u001b[0mhostname\u001b[0m \u001b[0;34m=\u001b[0m \u001b[0mself\u001b[0m\u001b[0;34m.\u001b[0m\u001b[0mhost\u001b[0m\u001b[0;34m\u001b[0m\u001b[0;34m\u001b[0m\u001b[0m\n",
      "\u001b[0;32m~/anaconda3/lib/python3.7/site-packages/urllib3/connection.py\u001b[0m in \u001b[0;36m_new_conn\u001b[0;34m(self)\u001b[0m\n\u001b[1;32m    171\u001b[0m             raise NewConnectionError(\n\u001b[0;32m--> 172\u001b[0;31m                 \u001b[0mself\u001b[0m\u001b[0;34m,\u001b[0m \u001b[0;34m\"Failed to establish a new connection: %s\"\u001b[0m \u001b[0;34m%\u001b[0m \u001b[0me\u001b[0m\u001b[0;34m\u001b[0m\u001b[0;34m\u001b[0m\u001b[0m\n\u001b[0m\u001b[1;32m    173\u001b[0m             )\n",
      "\u001b[0;31mNewConnectionError\u001b[0m: <urllib3.connection.HTTPSConnection object at 0x7fb9fa792c10>: Failed to establish a new connection: [Errno 8] nodename nor servname provided, or not known",
      "\nDuring handling of the above exception, another exception occurred:\n",
      "\u001b[0;31mMaxRetryError\u001b[0m                             Traceback (most recent call last)",
      "\u001b[0;32m~/anaconda3/lib/python3.7/site-packages/requests/adapters.py\u001b[0m in \u001b[0;36msend\u001b[0;34m(self, request, stream, timeout, verify, cert, proxies)\u001b[0m\n\u001b[1;32m    448\u001b[0m                     \u001b[0mretries\u001b[0m\u001b[0;34m=\u001b[0m\u001b[0mself\u001b[0m\u001b[0;34m.\u001b[0m\u001b[0mmax_retries\u001b[0m\u001b[0;34m,\u001b[0m\u001b[0;34m\u001b[0m\u001b[0;34m\u001b[0m\u001b[0m\n\u001b[0;32m--> 449\u001b[0;31m                     \u001b[0mtimeout\u001b[0m\u001b[0;34m=\u001b[0m\u001b[0mtimeout\u001b[0m\u001b[0;34m\u001b[0m\u001b[0;34m\u001b[0m\u001b[0m\n\u001b[0m\u001b[1;32m    450\u001b[0m                 )\n",
      "\u001b[0;32m~/anaconda3/lib/python3.7/site-packages/urllib3/connectionpool.py\u001b[0m in \u001b[0;36murlopen\u001b[0;34m(self, method, url, body, headers, retries, redirect, assert_same_host, timeout, pool_timeout, release_conn, chunked, body_pos, **response_kw)\u001b[0m\n\u001b[1;32m    726\u001b[0m             retries = retries.increment(\n\u001b[0;32m--> 727\u001b[0;31m                 \u001b[0mmethod\u001b[0m\u001b[0;34m,\u001b[0m \u001b[0murl\u001b[0m\u001b[0;34m,\u001b[0m \u001b[0merror\u001b[0m\u001b[0;34m=\u001b[0m\u001b[0me\u001b[0m\u001b[0;34m,\u001b[0m \u001b[0m_pool\u001b[0m\u001b[0;34m=\u001b[0m\u001b[0mself\u001b[0m\u001b[0;34m,\u001b[0m \u001b[0m_stacktrace\u001b[0m\u001b[0;34m=\u001b[0m\u001b[0msys\u001b[0m\u001b[0;34m.\u001b[0m\u001b[0mexc_info\u001b[0m\u001b[0;34m(\u001b[0m\u001b[0;34m)\u001b[0m\u001b[0;34m[\u001b[0m\u001b[0;36m2\u001b[0m\u001b[0;34m]\u001b[0m\u001b[0;34m\u001b[0m\u001b[0;34m\u001b[0m\u001b[0m\n\u001b[0m\u001b[1;32m    728\u001b[0m             )\n",
      "\u001b[0;32m~/anaconda3/lib/python3.7/site-packages/urllib3/util/retry.py\u001b[0m in \u001b[0;36mincrement\u001b[0;34m(self, method, url, response, error, _pool, _stacktrace)\u001b[0m\n\u001b[1;32m    445\u001b[0m         \u001b[0;32mif\u001b[0m \u001b[0mnew_retry\u001b[0m\u001b[0;34m.\u001b[0m\u001b[0mis_exhausted\u001b[0m\u001b[0;34m(\u001b[0m\u001b[0;34m)\u001b[0m\u001b[0;34m:\u001b[0m\u001b[0;34m\u001b[0m\u001b[0;34m\u001b[0m\u001b[0m\n\u001b[0;32m--> 446\u001b[0;31m             \u001b[0;32mraise\u001b[0m \u001b[0mMaxRetryError\u001b[0m\u001b[0;34m(\u001b[0m\u001b[0m_pool\u001b[0m\u001b[0;34m,\u001b[0m \u001b[0murl\u001b[0m\u001b[0;34m,\u001b[0m \u001b[0merror\u001b[0m \u001b[0;32mor\u001b[0m \u001b[0mResponseError\u001b[0m\u001b[0;34m(\u001b[0m\u001b[0mcause\u001b[0m\u001b[0;34m)\u001b[0m\u001b[0;34m)\u001b[0m\u001b[0;34m\u001b[0m\u001b[0;34m\u001b[0m\u001b[0m\n\u001b[0m\u001b[1;32m    447\u001b[0m \u001b[0;34m\u001b[0m\u001b[0m\n",
      "\u001b[0;31mMaxRetryError\u001b[0m: HTTPSConnectionPool(host='www.ravelry.com', port=443): Max retries exceeded with url: /patterns/library/poet?User-agent=Opera%2F9.80+%28Macintosh%3B+Intel+Mac+OS+X+10.6.8%3B+U%3B+de%29+Presto%2F2.9.168+Version%2F11.52 (Caused by NewConnectionError('<urllib3.connection.HTTPSConnection object at 0x7fb9fa792c10>: Failed to establish a new connection: [Errno 8] nodename nor servname provided, or not known'))",
      "\nDuring handling of the above exception, another exception occurred:\n",
      "\u001b[0;31mConnectionError\u001b[0m                           Traceback (most recent call last)",
      "\u001b[0;32m<ipython-input-105-b2e77dac032c>\u001b[0m in \u001b[0;36m<module>\u001b[0;34m\u001b[0m\n\u001b[1;32m      3\u001b[0m         \u001b[0mlink\u001b[0m \u001b[0;34m=\u001b[0m \u001b[0;34m'https://www.ravelry.com/patterns/library/'\u001b[0m \u001b[0;34m+\u001b[0m \u001b[0mpattern\u001b[0m\u001b[0;34m\u001b[0m\u001b[0;34m\u001b[0m\u001b[0m\n\u001b[1;32m      4\u001b[0m         \u001b[0muser_agent\u001b[0m \u001b[0;34m=\u001b[0m \u001b[0;34m{\u001b[0m\u001b[0;34m'User-agent'\u001b[0m\u001b[0;34m:\u001b[0m \u001b[0mua\u001b[0m\u001b[0;34m.\u001b[0m\u001b[0mrandom\u001b[0m\u001b[0;34m}\u001b[0m\u001b[0;34m\u001b[0m\u001b[0;34m\u001b[0m\u001b[0m\n\u001b[0;32m----> 5\u001b[0;31m         \u001b[0mresult\u001b[0m \u001b[0;34m=\u001b[0m \u001b[0mrequests\u001b[0m\u001b[0;34m.\u001b[0m\u001b[0mget\u001b[0m\u001b[0;34m(\u001b[0m\u001b[0mlink\u001b[0m\u001b[0;34m,\u001b[0m \u001b[0muser_agent\u001b[0m\u001b[0;34m)\u001b[0m\u001b[0;34m\u001b[0m\u001b[0;34m\u001b[0m\u001b[0m\n\u001b[0m\u001b[1;32m      6\u001b[0m         \u001b[0;32mtry\u001b[0m\u001b[0;34m:\u001b[0m\u001b[0;34m\u001b[0m\u001b[0;34m\u001b[0m\u001b[0m\n\u001b[1;32m      7\u001b[0m             \u001b[0msoup\u001b[0m \u001b[0;34m=\u001b[0m \u001b[0mBeautifulSoup\u001b[0m\u001b[0;34m(\u001b[0m\u001b[0mresult\u001b[0m\u001b[0;34m.\u001b[0m\u001b[0mcontent\u001b[0m\u001b[0;34m,\u001b[0m \u001b[0;34m'html.parser'\u001b[0m\u001b[0;34m)\u001b[0m\u001b[0;34m\u001b[0m\u001b[0;34m\u001b[0m\u001b[0m\n",
      "\u001b[0;32m~/anaconda3/lib/python3.7/site-packages/requests/api.py\u001b[0m in \u001b[0;36mget\u001b[0;34m(url, params, **kwargs)\u001b[0m\n\u001b[1;32m     74\u001b[0m \u001b[0;34m\u001b[0m\u001b[0m\n\u001b[1;32m     75\u001b[0m     \u001b[0mkwargs\u001b[0m\u001b[0;34m.\u001b[0m\u001b[0msetdefault\u001b[0m\u001b[0;34m(\u001b[0m\u001b[0;34m'allow_redirects'\u001b[0m\u001b[0;34m,\u001b[0m \u001b[0;32mTrue\u001b[0m\u001b[0;34m)\u001b[0m\u001b[0;34m\u001b[0m\u001b[0;34m\u001b[0m\u001b[0m\n\u001b[0;32m---> 76\u001b[0;31m     \u001b[0;32mreturn\u001b[0m \u001b[0mrequest\u001b[0m\u001b[0;34m(\u001b[0m\u001b[0;34m'get'\u001b[0m\u001b[0;34m,\u001b[0m \u001b[0murl\u001b[0m\u001b[0;34m,\u001b[0m \u001b[0mparams\u001b[0m\u001b[0;34m=\u001b[0m\u001b[0mparams\u001b[0m\u001b[0;34m,\u001b[0m \u001b[0;34m**\u001b[0m\u001b[0mkwargs\u001b[0m\u001b[0;34m)\u001b[0m\u001b[0;34m\u001b[0m\u001b[0;34m\u001b[0m\u001b[0m\n\u001b[0m\u001b[1;32m     77\u001b[0m \u001b[0;34m\u001b[0m\u001b[0m\n\u001b[1;32m     78\u001b[0m \u001b[0;34m\u001b[0m\u001b[0m\n",
      "\u001b[0;32m~/anaconda3/lib/python3.7/site-packages/requests/api.py\u001b[0m in \u001b[0;36mrequest\u001b[0;34m(method, url, **kwargs)\u001b[0m\n\u001b[1;32m     59\u001b[0m     \u001b[0;31m# cases, and look like a memory leak in others.\u001b[0m\u001b[0;34m\u001b[0m\u001b[0;34m\u001b[0m\u001b[0;34m\u001b[0m\u001b[0m\n\u001b[1;32m     60\u001b[0m     \u001b[0;32mwith\u001b[0m \u001b[0msessions\u001b[0m\u001b[0;34m.\u001b[0m\u001b[0mSession\u001b[0m\u001b[0;34m(\u001b[0m\u001b[0;34m)\u001b[0m \u001b[0;32mas\u001b[0m \u001b[0msession\u001b[0m\u001b[0;34m:\u001b[0m\u001b[0;34m\u001b[0m\u001b[0;34m\u001b[0m\u001b[0m\n\u001b[0;32m---> 61\u001b[0;31m         \u001b[0;32mreturn\u001b[0m \u001b[0msession\u001b[0m\u001b[0;34m.\u001b[0m\u001b[0mrequest\u001b[0m\u001b[0;34m(\u001b[0m\u001b[0mmethod\u001b[0m\u001b[0;34m=\u001b[0m\u001b[0mmethod\u001b[0m\u001b[0;34m,\u001b[0m \u001b[0murl\u001b[0m\u001b[0;34m=\u001b[0m\u001b[0murl\u001b[0m\u001b[0;34m,\u001b[0m \u001b[0;34m**\u001b[0m\u001b[0mkwargs\u001b[0m\u001b[0;34m)\u001b[0m\u001b[0;34m\u001b[0m\u001b[0;34m\u001b[0m\u001b[0m\n\u001b[0m\u001b[1;32m     62\u001b[0m \u001b[0;34m\u001b[0m\u001b[0m\n\u001b[1;32m     63\u001b[0m \u001b[0;34m\u001b[0m\u001b[0m\n",
      "\u001b[0;32m~/anaconda3/lib/python3.7/site-packages/requests/sessions.py\u001b[0m in \u001b[0;36mrequest\u001b[0;34m(self, method, url, params, data, headers, cookies, files, auth, timeout, allow_redirects, proxies, hooks, stream, verify, cert, json)\u001b[0m\n\u001b[1;32m    528\u001b[0m         }\n\u001b[1;32m    529\u001b[0m         \u001b[0msend_kwargs\u001b[0m\u001b[0;34m.\u001b[0m\u001b[0mupdate\u001b[0m\u001b[0;34m(\u001b[0m\u001b[0msettings\u001b[0m\u001b[0;34m)\u001b[0m\u001b[0;34m\u001b[0m\u001b[0;34m\u001b[0m\u001b[0m\n\u001b[0;32m--> 530\u001b[0;31m         \u001b[0mresp\u001b[0m \u001b[0;34m=\u001b[0m \u001b[0mself\u001b[0m\u001b[0;34m.\u001b[0m\u001b[0msend\u001b[0m\u001b[0;34m(\u001b[0m\u001b[0mprep\u001b[0m\u001b[0;34m,\u001b[0m \u001b[0;34m**\u001b[0m\u001b[0msend_kwargs\u001b[0m\u001b[0;34m)\u001b[0m\u001b[0;34m\u001b[0m\u001b[0;34m\u001b[0m\u001b[0m\n\u001b[0m\u001b[1;32m    531\u001b[0m \u001b[0;34m\u001b[0m\u001b[0m\n\u001b[1;32m    532\u001b[0m         \u001b[0;32mreturn\u001b[0m \u001b[0mresp\u001b[0m\u001b[0;34m\u001b[0m\u001b[0;34m\u001b[0m\u001b[0m\n",
      "\u001b[0;32m~/anaconda3/lib/python3.7/site-packages/requests/sessions.py\u001b[0m in \u001b[0;36msend\u001b[0;34m(self, request, **kwargs)\u001b[0m\n\u001b[1;32m    641\u001b[0m \u001b[0;34m\u001b[0m\u001b[0m\n\u001b[1;32m    642\u001b[0m         \u001b[0;31m# Send the request\u001b[0m\u001b[0;34m\u001b[0m\u001b[0;34m\u001b[0m\u001b[0;34m\u001b[0m\u001b[0m\n\u001b[0;32m--> 643\u001b[0;31m         \u001b[0mr\u001b[0m \u001b[0;34m=\u001b[0m \u001b[0madapter\u001b[0m\u001b[0;34m.\u001b[0m\u001b[0msend\u001b[0m\u001b[0;34m(\u001b[0m\u001b[0mrequest\u001b[0m\u001b[0;34m,\u001b[0m \u001b[0;34m**\u001b[0m\u001b[0mkwargs\u001b[0m\u001b[0;34m)\u001b[0m\u001b[0;34m\u001b[0m\u001b[0;34m\u001b[0m\u001b[0m\n\u001b[0m\u001b[1;32m    644\u001b[0m \u001b[0;34m\u001b[0m\u001b[0m\n\u001b[1;32m    645\u001b[0m         \u001b[0;31m# Total elapsed time of the request (approximately)\u001b[0m\u001b[0;34m\u001b[0m\u001b[0;34m\u001b[0m\u001b[0;34m\u001b[0m\u001b[0m\n",
      "\u001b[0;32m~/anaconda3/lib/python3.7/site-packages/requests/adapters.py\u001b[0m in \u001b[0;36msend\u001b[0;34m(self, request, stream, timeout, verify, cert, proxies)\u001b[0m\n\u001b[1;32m    514\u001b[0m                 \u001b[0;32mraise\u001b[0m \u001b[0mSSLError\u001b[0m\u001b[0;34m(\u001b[0m\u001b[0me\u001b[0m\u001b[0;34m,\u001b[0m \u001b[0mrequest\u001b[0m\u001b[0;34m=\u001b[0m\u001b[0mrequest\u001b[0m\u001b[0;34m)\u001b[0m\u001b[0;34m\u001b[0m\u001b[0;34m\u001b[0m\u001b[0m\n\u001b[1;32m    515\u001b[0m \u001b[0;34m\u001b[0m\u001b[0m\n\u001b[0;32m--> 516\u001b[0;31m             \u001b[0;32mraise\u001b[0m \u001b[0mConnectionError\u001b[0m\u001b[0;34m(\u001b[0m\u001b[0me\u001b[0m\u001b[0;34m,\u001b[0m \u001b[0mrequest\u001b[0m\u001b[0;34m=\u001b[0m\u001b[0mrequest\u001b[0m\u001b[0;34m)\u001b[0m\u001b[0;34m\u001b[0m\u001b[0;34m\u001b[0m\u001b[0m\n\u001b[0m\u001b[1;32m    517\u001b[0m \u001b[0;34m\u001b[0m\u001b[0m\n\u001b[1;32m    518\u001b[0m         \u001b[0;32mexcept\u001b[0m \u001b[0mClosedPoolError\u001b[0m \u001b[0;32mas\u001b[0m \u001b[0me\u001b[0m\u001b[0;34m:\u001b[0m\u001b[0;34m\u001b[0m\u001b[0;34m\u001b[0m\u001b[0m\n",
      "\u001b[0;31mConnectionError\u001b[0m: HTTPSConnectionPool(host='www.ravelry.com', port=443): Max retries exceeded with url: /patterns/library/poet?User-agent=Opera%2F9.80+%28Macintosh%3B+Intel+Mac+OS+X+10.6.8%3B+U%3B+de%29+Presto%2F2.9.168+Version%2F11.52 (Caused by NewConnectionError('<urllib3.connection.HTTPSConnection object at 0x7fb9fa792c10>: Failed to establish a new connection: [Errno 8] nodename nor servname provided, or not known'))"
     ]
    }
   ],
   "source": [
    "for key in type_dict2.keys():\n",
    "    for pattern in type_dict2[key]:\n",
    "        link = 'https://www.ravelry.com/patterns/library/' + pattern\n",
    "        user_agent = {'User-agent': ua.random}\n",
    "        result = requests.get(link, user_agent)\n",
    "        try:\n",
    "            soup = BeautifulSoup(result.content, 'html.parser')\n",
    "            images = [image['src'] for image in soup.find('div', class_ = 'photo_gallery_container').find_all('img')]\n",
    "            count = 2\n",
    "            for image in images:\n",
    "                img_name = 'img/' + key + pattern + '_' + str(count).zfill(3) + '.jpg'\n",
    "                try:\n",
    "                    urllib.request.urlretrieve(image, img_name)\n",
    "                except:\n",
    "                    pass\n",
    "                count += 1\n",
    "                time.sleep(1.5*random.random())\n",
    "        except:\n",
    "            pass\n",
    "        time.sleep(5*random.random())\n"
   ]
  },
  {
   "cell_type": "code",
   "execution_count": 107,
   "metadata": {},
   "outputs": [
    {
     "data": {
      "text/plain": [
       "['197-16-agnes-sweater',\n",
       " 'aarnicarra',\n",
       " 'aida-pullover',\n",
       " 'almina-sweater',\n",
       " 'arkenstone-2',\n",
       " 'celosia-pullover',\n",
       " 'celtic-hill',\n",
       " 'corinne-812-pull-jacinthe',\n",
       " 'deschain',\n",
       " 'high-notes',\n",
       " 'jane-morris',\n",
       " 'kareno---',\n",
       " 'lorelei-13',\n",
       " 'nicasio-2',\n",
       " 'olive-leaf-pullover',\n",
       " 'ondawa',\n",
       " 'poet',\n",
       " 'railfence',\n",
       " 'ranunculus-3',\n",
       " 'sailing-sweater',\n",
       " 'sophie-pullover',\n",
       " 'spellbound-10',\n",
       " 'victoria-44',\n",
       " 'yokester-2']"
      ]
     },
     "execution_count": 107,
     "metadata": {},
     "output_type": "execute_result"
    }
   ],
   "source": [
    "sorted(type_dict2['13'])"
   ]
  },
  {
   "cell_type": "code",
   "execution_count": 108,
   "metadata": {},
   "outputs": [],
   "source": [
    "type_dict2['13'] = ['197-16-agnes-sweater', 'aarnicarra', 'aida-pullover', \n",
    "                    'almina-sweater', 'arkenstone-2', 'celosia-pullover', \n",
    "                    'celtic-hill', 'corinne-812-pull-jacinthe', 'high-notes', \n",
    "                    'jane-morris', 'kareno---', 'lorelei-13', \n",
    "                    'olive-leaf-pullover', 'ondawa', 'poet', 'railfence', \n",
    "                    'sailing-sweater', 'sophie-pullover', 'spellbound-10', \n",
    "                    'victoria-44', 'yokester-2']"
   ]
  },
  {
   "cell_type": "code",
   "execution_count": 110,
   "metadata": {},
   "outputs": [],
   "source": [
    "del type_dict2['12']\n",
    "skipped = {'13': [], '14': [], '15': [], '17': [], '18': [], \n",
    "           '19': [], '20': [], '21': [], '22': [], '23': []}\n",
    "\n",
    "for key in type_dict2.keys():\n",
    "    for pattern in type_dict2[key]:\n",
    "        link = 'https://www.ravelry.com/patterns/library/' + pattern\n",
    "        user_agent = {'User-agent': ua.random}\n",
    "        try:\n",
    "            result = requests.get(link, user_agent)\n",
    "            soup = BeautifulSoup(result.content, 'html.parser')\n",
    "            images = [image['src'] for image in soup.find('div', class_ = 'photo_gallery_container').find_all('img')]\n",
    "            count = 2\n",
    "            for image in images:\n",
    "                img_name = 'img/' + key + pattern + '_' + str(count).zfill(3) + '.jpg'\n",
    "                try:\n",
    "                    urllib.request.urlretrieve(image, img_name)\n",
    "                except:\n",
    "                    pass\n",
    "                count += 1\n",
    "                time.sleep(1 + 2*random.random())\n",
    "        except:\n",
    "            skipped[key] += [pattern]\n",
    "        time.sleep(2 + 5*random.random())\n"
   ]
  },
  {
   "cell_type": "code",
   "execution_count": null,
   "metadata": {},
   "outputs": [],
   "source": []
  }
 ],
 "metadata": {
  "kernelspec": {
   "display_name": "Python 3",
   "language": "python",
   "name": "python3"
  },
  "language_info": {
   "codemirror_mode": {
    "name": "ipython",
    "version": 3
   },
   "file_extension": ".py",
   "mimetype": "text/x-python",
   "name": "python",
   "nbconvert_exporter": "python",
   "pygments_lexer": "ipython3",
   "version": "3.7.8"
  }
 },
 "nbformat": 4,
 "nbformat_minor": 4
}
